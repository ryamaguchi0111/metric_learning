{
 "cells": [
  {
   "cell_type": "markdown",
   "metadata": {},
   "source": [
    "# ネット上に弱異常検知で実装していたものがあったためそれをとりあえず動かす\n",
    "参考URL  \n",
    "https://qiita.com/shinmura0/items/1af83f5a5857d50cabc2  \n",
    "https://github.com/shinmura0/Weakly-anomaly-detection/blob/master/WeaklyAnomalyDetection.ipynb"
   ]
  },
  {
   "cell_type": "code",
   "execution_count": 1,
   "metadata": {},
   "outputs": [],
   "source": [
    "from keras.datasets import fashion_mnist\n",
    "import numpy as np\n",
    "import matplotlib.pyplot as plt\n",
    "from keras.utils import to_categorical\n",
    "from keras.preprocessing.image import ImageDataGenerator\n",
    "\n",
    "boots = 9#ブーツは9\n",
    "sneaker = 7#スニーカーは7\n",
    "\n",
    "# dataset\n",
    "(x_train, y_train), (x_test, y_test) = fashion_mnist.load_data()\n",
    "\n",
    "x_train = x_train.reshape(x_train.shape[0], 28, 28, 1)\n",
    "x_test = x_test.reshape(x_test.shape[0], 28, 28, 1)\n",
    "\n",
    "x_train = x_train.astype('float32') / 255\n",
    "x_test = x_test.astype('float32') / 255\n",
    "\n",
    "#学習データ\n",
    "x_train_sum, x_train_s, x_train_b, x_test_s, x_test_b, = [], [], [], [], []\n",
    "y_train_sum = []\n",
    "\n",
    "for i in range(len(x_train)):\n",
    "    if y_train[i] == boots:\n",
    "        x_train_b.append(x_train[i])\n",
    "    elif y_train[i] == sneaker:\n",
    "        x_train_s.append(x_train[i])\n",
    "    else:\n",
    "        x_train_sum.append(x_train[i])\n",
    "        y_train_sum.append(y_train[i])\n",
    "\n",
    "x_train_sum = np.array(x_train_sum)\n",
    "x_train_b = np.array(x_train_b)\n",
    "x_train_s = np.array(x_train_s)\n",
    "        \n",
    "#trainデータからランダムに4000個抽出\n",
    "number = np.random.choice(np.arange(0,x_train_sum.shape[0]),4000,replace=False)\n",
    "\n",
    "x, y = [], []\n",
    "\n",
    "for i in number:\n",
    "    x.append(x_train_sum[i])\n",
    "    y.append(y_train_sum[i])\n",
    "    \n",
    "x_train_sum = np.array(x)\n",
    "y_train_sum = np.array(y)"
   ]
  },
  {
   "cell_type": "code",
   "execution_count": 2,
   "metadata": {},
   "outputs": [
    {
     "name": "stdout",
     "output_type": "stream",
     "text": [
      "finish\n",
      "(5000, 28, 28, 1)\n",
      "(5000, 10)\n",
      "(1000, 28, 28, 1)\n",
      "(1000, 28, 28, 1)\n"
     ]
    }
   ],
   "source": [
    "#スニーカーデータからランダムに500個抽出\n",
    "number = np.random.choice(np.arange(0,x_train_s.shape[0]),500,replace=False)\n",
    "\n",
    "x, y = [], []\n",
    "\n",
    "for i in number:\n",
    "    x.append(x_train_s[i])\n",
    "\n",
    "#データ結合\n",
    "x_train_sum = np.vstack((x_train_sum, np.array(x)))\n",
    "y_train_sum = np.hstack((y_train_sum, sneaker*np.ones(500)))\n",
    "\n",
    "#ブーツデータからランダムに10個抽出\n",
    "number = np.random.choice(np.arange(0,x_train_b.shape[0]),10,replace=False)\n",
    "\n",
    "x, y = [], []\n",
    "\n",
    "for i in number:\n",
    "    x.append(x_train_b[i])\n",
    "    \n",
    "# Data Augmentation\n",
    "datagen = ImageDataGenerator(rotation_range=10,\n",
    "                             width_shift_range=0.1,\n",
    "                             height_shift_range=0.1,\n",
    "                             horizontal_flip=False)\n",
    "img = []\n",
    "\n",
    "for d in datagen.flow(np.array(x), batch_size=1):\n",
    "    # このあと画像を表示するためにndarrayをPIL形式に変換して保存する\n",
    "    img.append(d[0])\n",
    "    # datagen.flowは無限ループするため必要な枚数取得できたらループを抜ける\n",
    "    if len(img) == 500:\n",
    "        print(\"finish\")\n",
    "        break\n",
    "\n",
    "#データ結合\n",
    "x_train_sum = np.vstack((x_train_sum, np.array(img)))\n",
    "y_train_sum = np.hstack((y_train_sum, boots*np.ones(500)))\n",
    "y_train_sum = to_categorical(y_train_sum)\n",
    "\n",
    "#テストデータ\n",
    "for i in range(len(x_test)):\n",
    "    if y_test[i] == 7:#スニーカーは7\n",
    "        x_test_s.append(x_test[i])\n",
    "    \n",
    "    if y_test[i] == 9:#ブーツは9\n",
    "        x_test_b.append(x_test[i])\n",
    "    \n",
    "x_test_s = np.array(x_test_s)\n",
    "x_test_b = np.array(x_test_b)\n",
    "\n",
    "print(x_train_sum.shape)\n",
    "print(y_train_sum.shape)\n",
    "print(x_test_s.shape)\n",
    "print(x_test_b.shape)"
   ]
  },
  {
   "cell_type": "code",
   "execution_count": 4,
   "metadata": {},
   "outputs": [],
   "source": [
    "import cv2\n",
    "from PIL import Image\n",
    "\n",
    "def resize(x):\n",
    "    x_out = []\n",
    "    \n",
    "    for i in range(len(x)):\n",
    "        img = cv2.cvtColor(x[i], cv2.COLOR_GRAY2RGB)\n",
    "        img = cv2.resize(img,dsize=(96,96))\n",
    "        x_out.append(img)\n",
    "                \n",
    "    return np.array(x_out)\n",
    "\n",
    "X_train_sum = resize(x_train_sum)\n",
    "X_test_s = resize(x_test_s)\n",
    "X_test_b = resize(x_test_b)"
   ]
  },
  {
   "cell_type": "code",
   "execution_count": 6,
   "metadata": {},
   "outputs": [
    {
     "data": {
      "image/png": "[encoded data removed]",
      "text/plain": [
       "<Figure size 432x288 with 2 Axes>"
      ]
     },
     "metadata": {
      "needs_background": "light"
     },
     "output_type": "display_data"
    }
   ],
   "source": [
    "import matplotlib.pyplot as plt\n",
    "fig, axs = plt.subplots(1, 2)\n",
    "axs[0].imshow(x_train_sum[4802,:,:,0], cmap='gray')\n",
    "axs[1].imshow(X_train_sum[4802,:,:,:])\n",
    "plt.show()"
   ]
  },
  {
   "cell_type": "code",
   "execution_count": 9,
   "metadata": {},
   "outputs": [],
   "source": [
    "import keras\n",
    "from keras.applications import MobileNetV2\n",
    "from keras.optimizers import Adam, SGD\n",
    "from keras.models import Model\n",
    "from keras.layers import GlobalAveragePooling2D, Dense\n",
    "from keras import backend as K\n",
    "\n",
    "from sklearn.neighbors import LocalOutlierFactor\n",
    "from sklearn import metrics\n",
    "from sklearn.preprocessing import MinMaxScaler\n",
    "\n",
    "\n",
    "input_shape = (96, 96, 3)\n",
    "classes = 10\n",
    "batchsize = 128\n",
    "alpha = 0.5\n",
    "\n",
    "def train_and_evaluate(number, anomaly=True):\n",
    "    # mobile net読み込み\n",
    "    print(\"Model build...\")\n",
    "    \n",
    "    mobile = MobileNetV2(include_top=True, input_shape=input_shape, alpha=alpha,\n",
    "                     weights='imagenet')\n",
    "    \n",
    "    # 最終層削除\n",
    "    mobile.layers.pop()\n",
    "    model = Model(inputs=mobile.input,outputs=mobile.layers[-1].output)\n",
    "            \n",
    "    # L2層と全結合層を付ける\n",
    "    c = keras.layers.Lambda(lambda xx: 5*(xx)/K.sqrt(K.sum(xx**2)))(model.output) #metric learning\n",
    "    c = Dense(classes, activation='softmax')(c)\n",
    "    model = Model(inputs=model.input,outputs=c)\n",
    "\n",
    "    #model.summary()\n",
    "\n",
    "    model.compile(loss='categorical_crossentropy',\n",
    "                  optimizer=Adam(amsgrad=True),\n",
    "                  metrics=['accuracy'])\n",
    "    \n",
    "    print(number,\"training...\")\n",
    "\n",
    "    #cnnの学習\n",
    "    if anomaly == True:\n",
    "        train_NO = 5000\n",
    "    else:\n",
    "        train_NO = 4500\n",
    "\n",
    "    hist = model.fit(X_train_sum[:train_NO],\n",
    "                     y_train_sum[:train_NO],\n",
    "                     batch_size=128,\n",
    "                     epochs=50,\n",
    "                     verbose = False)\n",
    "    \n",
    "\n",
    "    # 最終層削除\n",
    "    model.layers.pop()\n",
    "    model = Model(inputs=model.input,outputs=model.layers[-1].output)\n",
    "\n",
    "    train = model.predict(X_train_sum[4000:4500])#スニーカー\n",
    "    test_s = model.predict(X_test_s)\n",
    "    test_b = model.predict(X_test_b)\n",
    "\n",
    "    train = train.reshape((len(train),-1))\n",
    "    test_s = test_s.reshape((len(X_test_s),-1))\n",
    "    test_b = test_b.reshape((len(X_test_b),-1))\n",
    "\n",
    "    #0-1変換\n",
    "    ms = MinMaxScaler()\n",
    "    train = ms.fit_transform(train)\n",
    "    test_s = ms.transform(test_s)\n",
    "    test_b = ms.transform(test_b)\n",
    "\n",
    "    # LOF\n",
    "    clf = LocalOutlierFactor(n_neighbors=5)\n",
    "    y_pred = clf.fit(train)\n",
    "\n",
    "    # plot the level sets of the decision function\n",
    "    Z1 = -clf._decision_function(test_s)\n",
    "    Z2 = -clf._decision_function(test_b)\n",
    "\n",
    "    #ROC曲線の描画\n",
    "    y_true = np.zeros(len(test_s)+len(test_b))\n",
    "    y_true[len(test_s):] = 1#0:正常、1：異常\n",
    "\n",
    "    # FPR, TPR(, しきい値) を算出\n",
    "    fpr, tpr, _ = metrics.roc_curve(y_true, np.hstack((Z1, Z2)))\n",
    "\n",
    "    # AUC\n",
    "    auc = metrics.auc(fpr, tpr)\n",
    "    \n",
    "    # ROC曲線をプロット\n",
    "    plt.plot(fpr, tpr, label='metric learning(AUC = %.2f)'%auc)\n",
    "    plt.legend()\n",
    "    plt.title(str(number)+'ROC curve')\n",
    "    plt.xlabel('False Positive Rate')\n",
    "    plt.ylabel('True Positive Rate')\n",
    "    plt.grid(True)\n",
    "    plt.show()"
   ]
  },
  {
   "cell_type": "code",
   "execution_count": 10,
   "metadata": {},
   "outputs": [
    {
     "name": "stdout",
     "output_type": "stream",
     "text": [
      "Model build...\n",
      "1 training...\n"
     ]
    },
    {
     "name": "stderr",
     "output_type": "stream",
     "text": [
      "/home/ryamaguchi/wark/wark/lib/python3.6/site-packages/sklearn/neighbors/lof.py:236: FutureWarning: default contamination parameter 0.1 will change in version 0.22 to \"auto\". This will change the predict method behavior.\n",
      "  FutureWarning)\n"
     ]
    },
    {
     "data": {
      "image/png": "[encoded data removed]",
      "text/plain": [
       "<Figure size 432x288 with 1 Axes>"
      ]
     },
     "metadata": {
      "needs_background": "light"
     },
     "output_type": "display_data"
    },
    {
     "name": "stdout",
     "output_type": "stream",
     "text": [
      "Model build...\n",
      "2 training...\n"
     ]
    },
    {
     "ename": "KeyboardInterrupt",
     "evalue": "",
     "output_type": "error",
     "traceback": [
      "\u001b[0;31m---------------------------------------------------------------------------\u001b[0m",
      "\u001b[0;31mKeyboardInterrupt\u001b[0m                         Traceback (most recent call last)",
      "\u001b[0;32m<ipython-input-10-d905c8d60fea>\u001b[0m in \u001b[0;36m<module>\u001b[0;34m\u001b[0m\n\u001b[1;32m      1\u001b[0m \u001b[0;31m#　普通の異常検知\u001b[0m\u001b[0;34m\u001b[0m\u001b[0;34m\u001b[0m\u001b[0;34m\u001b[0m\u001b[0m\n\u001b[1;32m      2\u001b[0m \u001b[0;32mfor\u001b[0m \u001b[0mi\u001b[0m \u001b[0;32min\u001b[0m \u001b[0mrange\u001b[0m\u001b[0;34m(\u001b[0m\u001b[0;36m10\u001b[0m\u001b[0;34m)\u001b[0m\u001b[0;34m:\u001b[0m\u001b[0;34m\u001b[0m\u001b[0;34m\u001b[0m\u001b[0m\n\u001b[0;32m----> 3\u001b[0;31m     \u001b[0mtrain_and_evaluate\u001b[0m\u001b[0;34m(\u001b[0m\u001b[0mi\u001b[0m\u001b[0;34m+\u001b[0m\u001b[0;36m1\u001b[0m\u001b[0;34m,\u001b[0m \u001b[0;32mFalse\u001b[0m\u001b[0;34m)\u001b[0m\u001b[0;34m\u001b[0m\u001b[0;34m\u001b[0m\u001b[0m\n\u001b[0m\u001b[1;32m      4\u001b[0m \u001b[0;34m\u001b[0m\u001b[0m\n\u001b[1;32m      5\u001b[0m \u001b[0;31m#　弱異常検知\u001b[0m\u001b[0;34m\u001b[0m\u001b[0;34m\u001b[0m\u001b[0;34m\u001b[0m\u001b[0m\n",
      "\u001b[0;32m<ipython-input-9-33f1fc37348f>\u001b[0m in \u001b[0;36mtrain_and_evaluate\u001b[0;34m(number, anomaly)\u001b[0m\n\u001b[1;32m     50\u001b[0m                      \u001b[0mbatch_size\u001b[0m\u001b[0;34m=\u001b[0m\u001b[0;36m128\u001b[0m\u001b[0;34m,\u001b[0m\u001b[0;34m\u001b[0m\u001b[0;34m\u001b[0m\u001b[0m\n\u001b[1;32m     51\u001b[0m                      \u001b[0mepochs\u001b[0m\u001b[0;34m=\u001b[0m\u001b[0;36m50\u001b[0m\u001b[0;34m,\u001b[0m\u001b[0;34m\u001b[0m\u001b[0;34m\u001b[0m\u001b[0m\n\u001b[0;32m---> 52\u001b[0;31m                      verbose = False)\n\u001b[0m\u001b[1;32m     53\u001b[0m \u001b[0;34m\u001b[0m\u001b[0m\n\u001b[1;32m     54\u001b[0m \u001b[0;34m\u001b[0m\u001b[0m\n",
      "\u001b[0;32m~/wark/wark/lib/python3.6/site-packages/keras/engine/training.py\u001b[0m in \u001b[0;36mfit\u001b[0;34m(self, x, y, batch_size, epochs, verbose, callbacks, validation_split, validation_data, shuffle, class_weight, sample_weight, initial_epoch, steps_per_epoch, validation_steps, **kwargs)\u001b[0m\n\u001b[1;32m   1037\u001b[0m                                         \u001b[0minitial_epoch\u001b[0m\u001b[0;34m=\u001b[0m\u001b[0minitial_epoch\u001b[0m\u001b[0;34m,\u001b[0m\u001b[0;34m\u001b[0m\u001b[0;34m\u001b[0m\u001b[0m\n\u001b[1;32m   1038\u001b[0m                                         \u001b[0msteps_per_epoch\u001b[0m\u001b[0;34m=\u001b[0m\u001b[0msteps_per_epoch\u001b[0m\u001b[0;34m,\u001b[0m\u001b[0;34m\u001b[0m\u001b[0;34m\u001b[0m\u001b[0m\n\u001b[0;32m-> 1039\u001b[0;31m                                         validation_steps=validation_steps)\n\u001b[0m\u001b[1;32m   1040\u001b[0m \u001b[0;34m\u001b[0m\u001b[0m\n\u001b[1;32m   1041\u001b[0m     def evaluate(self, x=None, y=None,\n",
      "\u001b[0;32m~/wark/wark/lib/python3.6/site-packages/keras/engine/training_arrays.py\u001b[0m in \u001b[0;36mfit_loop\u001b[0;34m(model, f, ins, out_labels, batch_size, epochs, verbose, callbacks, val_f, val_ins, shuffle, callback_metrics, initial_epoch, steps_per_epoch, validation_steps)\u001b[0m\n\u001b[1;32m    197\u001b[0m                     \u001b[0mins_batch\u001b[0m\u001b[0;34m[\u001b[0m\u001b[0mi\u001b[0m\u001b[0;34m]\u001b[0m \u001b[0;34m=\u001b[0m \u001b[0mins_batch\u001b[0m\u001b[0;34m[\u001b[0m\u001b[0mi\u001b[0m\u001b[0;34m]\u001b[0m\u001b[0;34m.\u001b[0m\u001b[0mtoarray\u001b[0m\u001b[0;34m(\u001b[0m\u001b[0;34m)\u001b[0m\u001b[0;34m\u001b[0m\u001b[0;34m\u001b[0m\u001b[0m\n\u001b[1;32m    198\u001b[0m \u001b[0;34m\u001b[0m\u001b[0m\n\u001b[0;32m--> 199\u001b[0;31m                 \u001b[0mouts\u001b[0m \u001b[0;34m=\u001b[0m \u001b[0mf\u001b[0m\u001b[0;34m(\u001b[0m\u001b[0mins_batch\u001b[0m\u001b[0;34m)\u001b[0m\u001b[0;34m\u001b[0m\u001b[0;34m\u001b[0m\u001b[0m\n\u001b[0m\u001b[1;32m    200\u001b[0m                 \u001b[0mouts\u001b[0m \u001b[0;34m=\u001b[0m \u001b[0mto_list\u001b[0m\u001b[0;34m(\u001b[0m\u001b[0mouts\u001b[0m\u001b[0;34m)\u001b[0m\u001b[0;34m\u001b[0m\u001b[0;34m\u001b[0m\u001b[0m\n\u001b[1;32m    201\u001b[0m                 \u001b[0;32mfor\u001b[0m \u001b[0ml\u001b[0m\u001b[0;34m,\u001b[0m \u001b[0mo\u001b[0m \u001b[0;32min\u001b[0m \u001b[0mzip\u001b[0m\u001b[0;34m(\u001b[0m\u001b[0mout_labels\u001b[0m\u001b[0;34m,\u001b[0m \u001b[0mouts\u001b[0m\u001b[0;34m)\u001b[0m\u001b[0;34m:\u001b[0m\u001b[0;34m\u001b[0m\u001b[0;34m\u001b[0m\u001b[0m\n",
      "\u001b[0;32m~/wark/wark/lib/python3.6/site-packages/keras/backend/tensorflow_backend.py\u001b[0m in \u001b[0;36m__call__\u001b[0;34m(self, inputs)\u001b[0m\n\u001b[1;32m   2713\u001b[0m                 \u001b[0;32mreturn\u001b[0m \u001b[0mself\u001b[0m\u001b[0;34m.\u001b[0m\u001b[0m_legacy_call\u001b[0m\u001b[0;34m(\u001b[0m\u001b[0minputs\u001b[0m\u001b[0;34m)\u001b[0m\u001b[0;34m\u001b[0m\u001b[0;34m\u001b[0m\u001b[0m\n\u001b[1;32m   2714\u001b[0m \u001b[0;34m\u001b[0m\u001b[0m\n\u001b[0;32m-> 2715\u001b[0;31m             \u001b[0;32mreturn\u001b[0m \u001b[0mself\u001b[0m\u001b[0;34m.\u001b[0m\u001b[0m_call\u001b[0m\u001b[0;34m(\u001b[0m\u001b[0minputs\u001b[0m\u001b[0;34m)\u001b[0m\u001b[0;34m\u001b[0m\u001b[0;34m\u001b[0m\u001b[0m\n\u001b[0m\u001b[1;32m   2716\u001b[0m         \u001b[0;32melse\u001b[0m\u001b[0;34m:\u001b[0m\u001b[0;34m\u001b[0m\u001b[0;34m\u001b[0m\u001b[0m\n\u001b[1;32m   2717\u001b[0m             \u001b[0;32mif\u001b[0m \u001b[0mpy_any\u001b[0m\u001b[0;34m(\u001b[0m\u001b[0mis_tensor\u001b[0m\u001b[0;34m(\u001b[0m\u001b[0mx\u001b[0m\u001b[0;34m)\u001b[0m \u001b[0;32mfor\u001b[0m \u001b[0mx\u001b[0m \u001b[0;32min\u001b[0m \u001b[0minputs\u001b[0m\u001b[0;34m)\u001b[0m\u001b[0;34m:\u001b[0m\u001b[0;34m\u001b[0m\u001b[0;34m\u001b[0m\u001b[0m\n",
      "\u001b[0;32m~/wark/wark/lib/python3.6/site-packages/keras/backend/tensorflow_backend.py\u001b[0m in \u001b[0;36m_call\u001b[0;34m(self, inputs)\u001b[0m\n\u001b[1;32m   2673\u001b[0m             \u001b[0mfetched\u001b[0m \u001b[0;34m=\u001b[0m \u001b[0mself\u001b[0m\u001b[0;34m.\u001b[0m\u001b[0m_callable_fn\u001b[0m\u001b[0;34m(\u001b[0m\u001b[0;34m*\u001b[0m\u001b[0marray_vals\u001b[0m\u001b[0;34m,\u001b[0m \u001b[0mrun_metadata\u001b[0m\u001b[0;34m=\u001b[0m\u001b[0mself\u001b[0m\u001b[0;34m.\u001b[0m\u001b[0mrun_metadata\u001b[0m\u001b[0;34m)\u001b[0m\u001b[0;34m\u001b[0m\u001b[0;34m\u001b[0m\u001b[0m\n\u001b[1;32m   2674\u001b[0m         \u001b[0;32melse\u001b[0m\u001b[0;34m:\u001b[0m\u001b[0;34m\u001b[0m\u001b[0;34m\u001b[0m\u001b[0m\n\u001b[0;32m-> 2675\u001b[0;31m             \u001b[0mfetched\u001b[0m \u001b[0;34m=\u001b[0m \u001b[0mself\u001b[0m\u001b[0;34m.\u001b[0m\u001b[0m_callable_fn\u001b[0m\u001b[0;34m(\u001b[0m\u001b[0;34m*\u001b[0m\u001b[0marray_vals\u001b[0m\u001b[0;34m)\u001b[0m\u001b[0;34m\u001b[0m\u001b[0;34m\u001b[0m\u001b[0m\n\u001b[0m\u001b[1;32m   2676\u001b[0m         \u001b[0;32mreturn\u001b[0m \u001b[0mfetched\u001b[0m\u001b[0;34m[\u001b[0m\u001b[0;34m:\u001b[0m\u001b[0mlen\u001b[0m\u001b[0;34m(\u001b[0m\u001b[0mself\u001b[0m\u001b[0;34m.\u001b[0m\u001b[0moutputs\u001b[0m\u001b[0;34m)\u001b[0m\u001b[0;34m]\u001b[0m\u001b[0;34m\u001b[0m\u001b[0;34m\u001b[0m\u001b[0m\n\u001b[1;32m   2677\u001b[0m \u001b[0;34m\u001b[0m\u001b[0m\n",
      "\u001b[0;32m~/wark/wark/lib/python3.6/site-packages/tensorflow/python/client/session.py\u001b[0m in \u001b[0;36m__call__\u001b[0;34m(self, *args, **kwargs)\u001b[0m\n\u001b[1;32m   1456\u001b[0m         ret = tf_session.TF_SessionRunCallable(self._session._session,\n\u001b[1;32m   1457\u001b[0m                                                \u001b[0mself\u001b[0m\u001b[0;34m.\u001b[0m\u001b[0m_handle\u001b[0m\u001b[0;34m,\u001b[0m \u001b[0margs\u001b[0m\u001b[0;34m,\u001b[0m\u001b[0;34m\u001b[0m\u001b[0;34m\u001b[0m\u001b[0m\n\u001b[0;32m-> 1458\u001b[0;31m                                                run_metadata_ptr)\n\u001b[0m\u001b[1;32m   1459\u001b[0m         \u001b[0;32mif\u001b[0m \u001b[0mrun_metadata\u001b[0m\u001b[0;34m:\u001b[0m\u001b[0;34m\u001b[0m\u001b[0;34m\u001b[0m\u001b[0m\n\u001b[1;32m   1460\u001b[0m           \u001b[0mproto_data\u001b[0m \u001b[0;34m=\u001b[0m \u001b[0mtf_session\u001b[0m\u001b[0;34m.\u001b[0m\u001b[0mTF_GetBuffer\u001b[0m\u001b[0;34m(\u001b[0m\u001b[0mrun_metadata_ptr\u001b[0m\u001b[0;34m)\u001b[0m\u001b[0;34m\u001b[0m\u001b[0;34m\u001b[0m\u001b[0m\n",
      "\u001b[0;31mKeyboardInterrupt\u001b[0m: "
     ]
    }
   ],
   "source": [
    "#　普通の異常検知\n",
    "for i in range(10):\n",
    "    train_and_evaluate(i+1, False)\n",
    "    \n",
    "#　弱異常検知\n",
    "for i in range(10):\n",
    "    train_and_evaluate(i+1)"
   ]
  },
  {
   "cell_type": "code",
   "execution_count": null,
   "metadata": {},
   "outputs": [],
   "source": []
  }
 ],
 "metadata": {
  "kernelspec": {
   "display_name": "wark",
   "language": "python",
   "name": "wark"
  },
  "language_info": {
   "codemirror_mode": {
    "name": "ipython",
    "version": 3
   },
   "file_extension": ".py",
   "mimetype": "text/x-python",
   "name": "python",
   "nbconvert_exporter": "python",
   "pygments_lexer": "ipython3",
   "version": "3.6.8"
  }
 },
 "nbformat": 4,
 "nbformat_minor": 2
}
