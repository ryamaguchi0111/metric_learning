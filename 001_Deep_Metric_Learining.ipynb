{
 "cells": [
  {
   "cell_type": "markdown",
   "metadata": {},
   "source": [
    "# 深層距離学習のSiamese NetworkとContrastive Lossを学ぶ\n",
    "\n",
    "参考URL  \n",
    "https://cpp-learning.com/siamese-network/"
   ]
  },
  {
   "cell_type": "markdown",
   "metadata": {},
   "source": [
    "# Import "
   ]
  },
  {
   "cell_type": "code",
   "execution_count": 1,
   "metadata": {},
   "outputs": [],
   "source": [
    "from __future__ import absolute_import\n",
    "from __future__ import print_function\n",
    "import numpy as np\n",
    "import random\n",
    "\n",
    "import tensorflow as tf\n",
    "from tensorflow.keras.datasets import mnist\n",
    "from tensorflow.keras.models import Model\n",
    "from tensorflow.keras.layers import Input, Flatten, Dense, Dropout, Lambda\n",
    "from tensorflow.keras.optimizers import RMSprop\n",
    "from tensorflow.keras import backend as K"
   ]
  },
  {
   "cell_type": "markdown",
   "metadata": {},
   "source": [
    "# classes and epoch"
   ]
  },
  {
   "cell_type": "code",
   "execution_count": 25,
   "metadata": {},
   "outputs": [],
   "source": [
    "num_classes = 9\n",
    "epochs = 20"
   ]
  },
  {
   "cell_type": "markdown",
   "metadata": {},
   "source": [
    "# ユークリッド距離関数の作成"
   ]
  },
  {
   "cell_type": "code",
   "execution_count": 3,
   "metadata": {},
   "outputs": [],
   "source": [
    "def euclidean_distance(vects):\n",
    "    x, y = vects\n",
    "    sum_square = K.sum(K.square(x - y), axis=1, keepdims=True)\n",
    "    return K.sqrt(K.maximum(sum_square, K.epsilon()))\n",
    "\n",
    "def eucl_dist_output_shape(shapes):\n",
    "    shape1, shape2 = shapes\n",
    "    return (shape1[0],1)"
   ]
  },
  {
   "cell_type": "markdown",
   "metadata": {},
   "source": [
    "# ペア作成関数（ラベル付け関数）\n",
    "同じクラスのペアはlabel=1  \n",
    "違うクラスのペアはlabel=0"
   ]
  },
  {
   "cell_type": "code",
   "execution_count": 26,
   "metadata": {},
   "outputs": [],
   "source": [
    "def create_pairs(x, difit_indices):\n",
    "    '''Positive and negative pair creation.\n",
    "    Alternates between positive and negative pairs.\n",
    "    '''\n",
    "    pairs = []\n",
    "    labels = []\n",
    "    n = min([len(digit_indices[d]) for d in range(num_classes)]) - 1\n",
    "    for d in range(num_classes):\n",
    "        for i in range(n):\n",
    "            z1, z2 = digit_indices[d][i], digit_indices[d][i + 1]\n",
    "            pairs += [[x[z1], x[z2]]]\n",
    "            inc = random.randrange(1, num_classes)\n",
    "            dn = (d + inc) % num_classes\n",
    "            z1, z2 = digit_indices[d][i], digit_indices[dn][i]\n",
    "            pairs += [[x[z1], x[z2]]]\n",
    "            labels += [1, 0]\n",
    "    return np.array(pairs), np.array(labels)"
   ]
  },
  {
   "cell_type": "markdown",
   "metadata": {},
   "source": [
    "# NNの設計"
   ]
  },
  {
   "cell_type": "code",
   "execution_count": 5,
   "metadata": {},
   "outputs": [],
   "source": [
    "def create_base_network(input_shape):\n",
    "    '''Base network to be shared (eq. to feature extraction).\n",
    "    '''\n",
    "    input = Input(shape=input_shape)\n",
    "    x = Flatten()(input)\n",
    "    x = Dense(128, activation='relu')(x)\n",
    "    x = Dropout(0.1)(x)\n",
    "    x = Dense(128, activation='relu')(x)\n",
    "    x = Dropout(0.1)(x)\n",
    "    x = Dense(128, activation='relu')(x)\n",
    "    return Model(input, x)"
   ]
  },
  {
   "cell_type": "markdown",
   "metadata": {},
   "source": [
    "# Accuracy関数の作成"
   ]
  },
  {
   "cell_type": "code",
   "execution_count": 6,
   "metadata": {},
   "outputs": [],
   "source": [
    "def compute_accuracy(y_true, y_pred):\n",
    "    '''Compute classification accuracy with a fixed threshold on distances.\n",
    "    '''\n",
    "    pred = y_pred.ravel() < 0.8\n",
    "    return np.mean(pred == y_true)\n",
    "\n",
    " \n",
    "def accuracy(y_true, y_pred):\n",
    "    '''Compute classification accuracy with a fixed threshold on distances.\n",
    "    '''\n",
    "    return K.mean(K.equal(y_true, K.cast(y_pred < 0.5, y_true.dtype)))"
   ]
  },
  {
   "cell_type": "markdown",
   "metadata": {},
   "source": [
    "# MNISTデータセットのダウンロード"
   ]
  },
  {
   "cell_type": "code",
   "execution_count": 7,
   "metadata": {},
   "outputs": [],
   "source": [
    "# The data, split between train and test sets\n",
    "mnist = tf.keras.datasets.mnist\n",
    "(x_train, y_train), (x_test, y_test) = mnist.load_data()\n",
    "x_train = x_train.astype('float32')\n",
    "x_test = x_test.astype('float32')\n",
    "x_train = x_train / 255.0\n",
    "x_test = x_test / 255.0\n",
    "# input_shape = (28, 28, 1)\n",
    "input_shape = x_train.shape[1:] # (28, 28)"
   ]
  },
  {
   "cell_type": "markdown",
   "metadata": {},
   "source": [
    "# データセットの可視化"
   ]
  },
  {
   "cell_type": "code",
   "execution_count": 27,
   "metadata": {},
   "outputs": [
    {
     "data": {
      "image/png": "[encoded data removed]",
      "text/plain": [
       "<Figure size 432x288 with 4 Axes>"
      ]
     },
     "metadata": {
      "needs_background": "light"
     },
     "output_type": "display_data"
    }
   ],
   "source": [
    "import matplotlib.pyplot as plt\n",
    " \n",
    "plt.subplot(2,2,1)\n",
    "plt.imshow(x_train[0], cmap='gray')\n",
    "plt.title(\"label={}\".format(y_train[0]))\n",
    " \n",
    "plt.subplot(2,2,2)\n",
    "plt.imshow(x_train[1], cmap='gray')\n",
    "plt.title(\"label={}\".format(y_train[1]))\n",
    " \n",
    "plt.subplot(2,2,3)\n",
    "plt.imshow(x_train[2], cmap='gray')\n",
    "plt.title(\"label={}\".format(y_train[2]))\n",
    " \n",
    "plt.subplot(2,2,4)\n",
    "plt.imshow(x_train[3], cmap='gray')\n",
    "plt.title(\"label={}\".format(y_train[3]))\n",
    " \n",
    "plt.tight_layout()\n",
    "plt.show()"
   ]
  },
  {
   "cell_type": "markdown",
   "metadata": {},
   "source": [
    "# ラベル付け"
   ]
  },
  {
   "cell_type": "code",
   "execution_count": 28,
   "metadata": {},
   "outputs": [
    {
     "name": "stdout",
     "output_type": "stream",
     "text": [
      "(97560, 2, 28, 28)\n",
      "(97560,)\n"
     ]
    }
   ],
   "source": [
    "# create training+test positive and negative pairs\n",
    "digit_indices = [np.where(y_train == i)[0] for i in range(num_classes)]\n",
    "tr_pairs, tr_y = create_pairs(x_train, digit_indices)\n",
    " \n",
    "digit_indices = [np.where(y_test == i)[0] for i in range(num_classes)]\n",
    "te_pairs, te_y = create_pairs(x_test, digit_indices)\n",
    " \n",
    "print(np.shape(tr_pairs))\n",
    "print(np.shape(tr_y))"
   ]
  },
  {
   "cell_type": "code",
   "execution_count": 10,
   "metadata": {},
   "outputs": [
    {
     "data": {
      "image/png": "[encoded data removed]",
      "text/plain": [
       "<Figure size 432x288 with 4 Axes>"
      ]
     },
     "metadata": {
      "needs_background": "light"
     },
     "output_type": "display_data"
    }
   ],
   "source": [
    "plt.subplot(2,2,1)\n",
    "plt.imshow(tr_pairs[0][0], cmap='gray')\n",
    "plt.title(\"positive pair {}\".format(tr_y[0]))\n",
    " \n",
    "plt.subplot(2,2,2)\n",
    "plt.imshow(tr_pairs[0][1], cmap='gray')\n",
    "plt.title(\"positive pair {}\".format(tr_y[0]))\n",
    " \n",
    "plt.subplot(2,2,3)\n",
    "plt.imshow(tr_pairs[1][0], cmap='gray')\n",
    "plt.title(\"negative pairs {}\".format(tr_y[1]))\n",
    " \n",
    "plt.subplot(2,2,4)\n",
    "plt.imshow(tr_pairs[1][1], cmap='gray')\n",
    "plt.title(\"negative pairs {}\".format(tr_y[1]))\n",
    " \n",
    "plt.tight_layout()\n",
    "plt.show()\n"
   ]
  },
  {
   "cell_type": "markdown",
   "metadata": {},
   "source": [
    "# Siamese Networkの定義"
   ]
  },
  {
   "cell_type": "code",
   "execution_count": 11,
   "metadata": {},
   "outputs": [
    {
     "name": "stderr",
     "output_type": "stream",
     "text": [
      "WARNING: Logging before flag parsing goes to stderr.\n",
      "W1127 16:52:09.847237 140252992759616 deprecation.py:506] From /home/ryamaguchi/wark/wark/lib/python3.6/site-packages/tensorflow/python/ops/init_ops.py:1251: calling VarianceScaling.__init__ (from tensorflow.python.ops.init_ops) with dtype is deprecated and will be removed in a future version.\n",
      "Instructions for updating:\n",
      "Call initializer instance with the dtype argument instead of passing it to the constructor\n"
     ]
    },
    {
     "name": "stdout",
     "output_type": "stream",
     "text": [
      "Model: \"model_1\"\n",
      "__________________________________________________________________________________________________\n",
      "Layer (type)                    Output Shape         Param #     Connected to                     \n",
      "==================================================================================================\n",
      "input_2 (InputLayer)            [(None, 28, 28)]     0                                            \n",
      "__________________________________________________________________________________________________\n",
      "input_3 (InputLayer)            [(None, 28, 28)]     0                                            \n",
      "__________________________________________________________________________________________________\n",
      "model (Model)                   (None, 128)          133504      input_2[0][0]                    \n",
      "                                                                 input_3[0][0]                    \n",
      "__________________________________________________________________________________________________\n",
      "lambda (Lambda)                 (None, 1)            0           model[1][0]                      \n",
      "                                                                 model[2][0]                      \n",
      "==================================================================================================\n",
      "Total params: 133,504\n",
      "Trainable params: 133,504\n",
      "Non-trainable params: 0\n",
      "__________________________________________________________________________________________________\n"
     ]
    },
    {
     "data": {
      "image/png": "[encoded data removed]",
      "text/plain": [
       "<IPython.core.display.Image object>"
      ]
     },
     "execution_count": 11,
     "metadata": {},
     "output_type": "execute_result"
    }
   ],
   "source": [
    "# network definition\n",
    "base_network = create_base_network(input_shape)\n",
    " \n",
    "input_a = Input(shape=input_shape)\n",
    "input_b = Input(shape=input_shape)\n",
    " \n",
    "# because we re-use the same instance `base_network`,\n",
    "# the weights of the network\n",
    "# will be shared across the two branches\n",
    "processed_a = base_network(input_a)\n",
    "processed_b = base_network(input_b)\n",
    " \n",
    "distance = Lambda(euclidean_distance,\n",
    "                  output_shape=eucl_dist_output_shape)([processed_a, processed_b])\n",
    " \n",
    "model = Model([input_a, input_b], distance)\n",
    " \n",
    "model.summary()\n",
    "tf.keras.utils.plot_model(model, to_file = 'model.png', show_shapes = True, show_layer_names = True)"
   ]
  },
  {
   "cell_type": "markdown",
   "metadata": {},
   "source": [
    "# training"
   ]
  },
  {
   "cell_type": "code",
   "execution_count": 12,
   "metadata": {},
   "outputs": [],
   "source": [
    "def contrastive_loss(y_true, y_pred):\n",
    "    '''Contrastive loss from Hadsell-et-al.'06\n",
    "    http://yann.lecun.com/exdb/publis/pdf/hadsell-chopra-lecun-06.pdf\n",
    "    '''\n",
    "    margin = 1\n",
    "    square_pred = K.square(y_pred)\n",
    "    margin_square = K.square(K.maximum(margin - y_pred, 0))\n",
    "    return K.mean(y_true * square_pred + (1 - y_true) * margin_square)\n"
   ]
  },
  {
   "cell_type": "code",
   "execution_count": 13,
   "metadata": {},
   "outputs": [
    {
     "name": "stderr",
     "output_type": "stream",
     "text": [
      "W1127 16:52:10.353244 140252992759616 deprecation.py:323] From /home/ryamaguchi/wark/wark/lib/python3.6/site-packages/tensorflow/python/ops/math_grad.py:1250: add_dispatch_support.<locals>.wrapper (from tensorflow.python.ops.array_ops) is deprecated and will be removed in a future version.\n",
      "Instructions for updating:\n",
      "Use tf.where in 2.0, which has the same broadcast rule as np.where\n"
     ]
    },
    {
     "name": "stdout",
     "output_type": "stream",
     "text": [
      "Epoch 1/20\n",
      "10/10 [==============================] - 20s 2s/step - loss: 0.3338 - accuracy: 0.5693 - val_loss: 0.2053 - val_accuracy: 0.6960\n",
      "Epoch 2/20\n",
      "10/10 [==============================] - 22s 2s/step - loss: 0.2023 - accuracy: 0.6930 - val_loss: 0.1599 - val_accuracy: 0.7924\n",
      "Epoch 3/20\n",
      "10/10 [==============================] - 22s 2s/step - loss: 0.1666 - accuracy: 0.7792 - val_loss: 0.1375 - val_accuracy: 0.8263\n",
      "Epoch 4/20\n",
      "10/10 [==============================] - 22s 2s/step - loss: 0.1451 - accuracy: 0.8174 - val_loss: 0.1199 - val_accuracy: 0.8517\n",
      "Epoch 5/20\n",
      "10/10 [==============================] - 22s 2s/step - loss: 0.1284 - accuracy: 0.8446 - val_loss: 0.1061 - val_accuracy: 0.8672\n",
      "Epoch 6/20\n",
      "10/10 [==============================] - 22s 2s/step - loss: 0.1153 - accuracy: 0.8658 - val_loss: 0.0954 - val_accuracy: 0.8845\n",
      "Epoch 7/20\n",
      "10/10 [==============================] - 22s 2s/step - loss: 0.1041 - accuracy: 0.8836 - val_loss: 0.0866 - val_accuracy: 0.8970\n",
      "Epoch 8/20\n",
      "10/10 [==============================] - 22s 2s/step - loss: 0.0946 - accuracy: 0.8986 - val_loss: 0.0781 - val_accuracy: 0.9099\n",
      "Epoch 9/20\n",
      "10/10 [==============================] - 22s 2s/step - loss: 0.0860 - accuracy: 0.9119 - val_loss: 0.0756 - val_accuracy: 0.9160\n",
      "Epoch 10/20\n",
      "10/10 [==============================] - 23s 2s/step - loss: 0.0794 - accuracy: 0.9219 - val_loss: 0.0694 - val_accuracy: 0.9245\n",
      "Epoch 11/20\n",
      "10/10 [==============================] - 25s 3s/step - loss: 0.0734 - accuracy: 0.9307 - val_loss: 0.0649 - val_accuracy: 0.9337\n",
      "Epoch 12/20\n",
      "10/10 [==============================] - 23s 2s/step - loss: 0.0670 - accuracy: 0.9401 - val_loss: 0.0590 - val_accuracy: 0.9413\n",
      "Epoch 13/20\n",
      "10/10 [==============================] - 22s 2s/step - loss: 0.0632 - accuracy: 0.9453 - val_loss: 0.0559 - val_accuracy: 0.9454\n",
      "Epoch 14/20\n",
      "10/10 [==============================] - 22s 2s/step - loss: 0.0579 - accuracy: 0.9520 - val_loss: 0.0511 - val_accuracy: 0.9534\n",
      "Epoch 15/20\n",
      "10/10 [==============================] - 22s 2s/step - loss: 0.0545 - accuracy: 0.9559 - val_loss: 0.0483 - val_accuracy: 0.9577\n",
      "Epoch 16/20\n",
      "10/10 [==============================] - 21s 2s/step - loss: 0.0512 - accuracy: 0.9599 - val_loss: 0.0429 - val_accuracy: 0.9605\n",
      "Epoch 17/20\n",
      "10/10 [==============================] - 23s 2s/step - loss: 0.0473 - accuracy: 0.9643 - val_loss: 0.0426 - val_accuracy: 0.9604\n",
      "Epoch 18/20\n",
      "10/10 [==============================] - 22s 2s/step - loss: 0.0451 - accuracy: 0.9664 - val_loss: 0.0428 - val_accuracy: 0.9582\n",
      "Epoch 19/20\n",
      "10/10 [==============================] - 24s 2s/step - loss: 0.0419 - accuracy: 0.9695 - val_loss: 0.0410 - val_accuracy: 0.9616\n",
      "Epoch 20/20\n",
      "10/10 [==============================] - 22s 2s/step - loss: 0.0401 - accuracy: 0.9712 - val_loss: 0.0385 - val_accuracy: 0.9635\n"
     ]
    },
    {
     "data": {
      "image/png": "[encoded data removed]",
      "text/plain": [
       "<Figure size 432x288 with 1 Axes>"
      ]
     },
     "metadata": {
      "needs_background": "light"
     },
     "output_type": "display_data"
    }
   ],
   "source": [
    "# train\n",
    "tr_y = tf.cast(tr_y, dtype='float32')\n",
    "te_y = tf.cast(te_y, dtype='float32')\n",
    "    \n",
    "rms = RMSprop()\n",
    "model.compile(loss=contrastive_loss, optimizer=rms, metrics=[accuracy])\n",
    " \n",
    "H = model.fit([tr_pairs[:, 0], tr_pairs[:, 1]], tr_y,\n",
    "          batch_size=128,\n",
    "          epochs=epochs,\n",
    "          validation_data=([te_pairs[:, 0], te_pairs[:, 1]], te_y),\n",
    "          steps_per_epoch=10,\n",
    "          validation_steps=10\n",
    "             )\n",
    " \n",
    "plt.title('Train/validation loss')\n",
    "plt.plot(H.history['loss'], label = 'training loss')\n",
    "plt.plot(H.history['val_loss'], label = 'validation loss')\n",
    "plt.grid()\n",
    "plt.legend()\n",
    "plt.show()"
   ]
  },
  {
   "cell_type": "markdown",
   "metadata": {},
   "source": [
    "# 精度確認"
   ]
  },
  {
   "cell_type": "code",
   "execution_count": 24,
   "metadata": {},
   "outputs": [
    {
     "name": "stdout",
     "output_type": "stream",
     "text": [
      "Accuracy on training set: 91.62%\n",
      "Accuracy on test set: 90.41%\n"
     ]
    }
   ],
   "source": [
    "# compute final accuracy on training and test sets\n",
    "sess = tf.Session()\n",
    "sess.run(tf.global_variables_initializer())\n",
    "# tr_y = tr_y.eval(session=sess)\n",
    "# te_y = te_y.eval(session=sess)\n",
    "\n",
    "y_pred_tr = model.predict([tr_pairs[:, 0], tr_pairs[:, 1]])\n",
    "tr_acc = compute_accuracy(tr_y, y_pred_tr)\n",
    "\n",
    "y_pred_te = model.predict([te_pairs[:, 0], te_pairs[:, 1]])\n",
    "te_acc = compute_accuracy(te_y, y_pred_te)\n",
    " \n",
    "print('Accuracy on training set: %0.2f%%' % (100 * tr_acc))\n",
    "print('Accuracy on test set: %0.2f%%' % (100 * te_acc))"
   ]
  }
 ],
 "metadata": {
  "kernelspec": {
   "display_name": "wark",
   "language": "python",
   "name": "wark"
  },
  "language_info": {
   "codemirror_mode": {
    "name": "ipython",
    "version": 3
   },
   "file_extension": ".py",
   "mimetype": "text/x-python",
   "name": "python",
   "nbconvert_exporter": "python",
   "pygments_lexer": "ipython3",
   "version": "3.6.8"
  }
 },
 "nbformat": 4,
 "nbformat_minor": 2
}
