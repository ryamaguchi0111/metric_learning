{
 "cells": [
  {
   "cell_type": "markdown",
   "metadata": {},
   "source": [
    "# Over View (※内容を書き換えてください)\n",
    "このノートブックでは実験用データセットを使用してfeatureの実験を行います。  \n",
    "簡単な実験にするためにこのノートブックでは以下の特徴量を比較します。\n",
    "\n",
    "- FASTD-Standard\n",
    "- 64-mel filters  \n",
    "\n",
    "## 学習方法\n",
    "GMM\n",
    "\n",
    "　- 学習回数:50回\n",
    "  - 学習率: 1e-4\n",
    "\n",
    "## 評価方法\n",
    "AUC\n",
    "\n",
    "## データセット\n",
    "DataSet : 001_HITACHI_fan  \n",
    "ANR     : 0db  \n",
    "\n"
   ]
  },
  {
   "cell_type": "markdown",
   "metadata": {},
   "source": [
    "***\n",
    "## ノートブックの流れ\n",
    "\n",
    "1. Set the Parameters  \n",
    "各パラメーターの設定\n",
    "\n",
    "2. Import module or package  \n",
    "モジュールやパッケージのインポート\n",
    "\n",
    "3. Data load  \n",
    "wav featureをロードします。\n",
    "\n",
    "4. Learning  \n",
    "3層AEで学習します。\n",
    "\n",
    "5. Predict  \n",
    "AUCで評価します。"
   ]
  },
  {
   "cell_type": "markdown",
   "metadata": {},
   "source": [
    "***\n",
    "## 実験結果\n",
    "\n",
    "|---|FASTD-Standard|\n",
    "|:--:|:--:|\n",
    "|FASTD-Standard|0.6|\n",
    "|64-mel filters |0.53|\n",
    "\n",
    "\n",
    "FASTD-Standardのほうが良い精度が出ている。"
   ]
  },
  {
   "cell_type": "markdown",
   "metadata": {},
   "source": [
    "# Set the Parameters"
   ]
  },
  {
   "cell_type": "code",
   "execution_count": 1,
   "metadata": {},
   "outputs": [],
   "source": [
    "# data set のパラメーター\n",
    "dataset = '001_HITACHI_fan'\n",
    "anr = '0db'\n",
    "feature_type = 'FASTD_standard'\n",
    "\n",
    "# 学習のパラメーター\n",
    "num_epochs = 50\n",
    "learning_rate = 1e-4\n",
    "\n",
    "## fastdstdの学習\n",
    "feature_dim_fastdstd = 34\n",
    "hidden_dim_fastdstd  = feature_dim_fastdstd//5\n",
    "latent_dim_fastdstd  = 3\n",
    "\n",
    "\n",
    "## mfcc64の学習\n",
    "feature_dim_mfcc64 = 64\n",
    "hidden_dim_mfcc64  = feature_dim_mfcc64//5\n",
    "latent_dim_mfcc64  = 3\n",
    "\n"
   ]
  },
  {
   "cell_type": "markdown",
   "metadata": {},
   "source": [
    "# Import module or package"
   ]
  },
  {
   "cell_type": "code",
   "execution_count": 2,
   "metadata": {},
   "outputs": [],
   "source": [
    "import glob\n",
    "import sys \n",
    "from fastprogress import progress_bar\n",
    "from tqdm import tqdm\n",
    "\n",
    "import pandas as pd\n",
    "import numpy as np\n",
    "import matplotlib.pyplot as plt\n",
    "\n",
    "from scipy.io.wavfile import read\n",
    "import librosa\n",
    "from librosa import power_to_db\n",
    "from librosa.feature.spectral import melspectrogram      \n",
    "\n",
    "from sklearn import preprocessing\n",
    "from sklearn.model_selection import train_test_split\n",
    "from sklearn.metrics import roc_curve\n",
    "from sklearn import metrics\n",
    "from sklearn.mixture import GaussianMixture\n",
    "\n",
    "import torch\n",
    "from torch import nn\n",
    "from torch.autograd import Variable\n",
    "from torch.utils.data import Dataset\n",
    "from torch.utils.data import DataLoader\n",
    "from torchvision import transforms"
   ]
  },
  {
   "cell_type": "markdown",
   "metadata": {},
   "source": [
    "# Data Load"
   ]
  },
  {
   "cell_type": "code",
   "execution_count": 3,
   "metadata": {},
   "outputs": [],
   "source": [
    "def wav_dataset_loader(data_set, anr):\n",
    "    dir_path = '/work-hmcomm/Experiment_DataSet/wav_dataset'\n",
    "    norm_data_set_path = dir_path +'/'+ data_set +'/'+ anr +'/'+ 'normal/*/*.wav'\n",
    "    anom_data_set_path = dir_path +'/'+ data_set +'/'+ anr +'/'+ 'abnormal/*/*.wav'\n",
    "    norm_data_set_list = sorted(glob.glob(norm_data_set_path))\n",
    "    anom_data_set_list = sorted(glob.glob(anom_data_set_path))\n",
    "    \n",
    "    return norm_data_set_list, anom_data_set_list"
   ]
  },
  {
   "cell_type": "code",
   "execution_count": 4,
   "metadata": {},
   "outputs": [],
   "source": [
    "norm_data_set_list, anom_data_set_list = wav_dataset_loader(dataset, anr)"
   ]
  },
  {
   "cell_type": "code",
   "execution_count": 5,
   "metadata": {},
   "outputs": [
    {
     "name": "stdout",
     "output_type": "stream",
     "text": [
      "norm wav file の数 : 1011\n"
     ]
    },
    {
     "data": {
      "text/plain": [
       "['/work-hmcomm/Experiment_DataSet/wav_dataset/001_HITACHI_fan/0db/normal/ch1/00000000_ch1.wav',\n",
       " '/work-hmcomm/Experiment_DataSet/wav_dataset/001_HITACHI_fan/0db/normal/ch1/00000001_ch1.wav',\n",
       " '/work-hmcomm/Experiment_DataSet/wav_dataset/001_HITACHI_fan/0db/normal/ch1/00000002_ch1.wav',\n",
       " '/work-hmcomm/Experiment_DataSet/wav_dataset/001_HITACHI_fan/0db/normal/ch1/00000003_ch1.wav',\n",
       " '/work-hmcomm/Experiment_DataSet/wav_dataset/001_HITACHI_fan/0db/normal/ch1/00000004_ch1.wav']"
      ]
     },
     "metadata": {},
     "output_type": "display_data"
    },
    {
     "name": "stdout",
     "output_type": "stream",
     "text": [
      "anom wav file の数 : 407\n"
     ]
    },
    {
     "data": {
      "text/plain": [
       "['/work-hmcomm/Experiment_DataSet/wav_dataset/001_HITACHI_fan/0db/abnormal/ch1/00000000_ch1.wav',\n",
       " '/work-hmcomm/Experiment_DataSet/wav_dataset/001_HITACHI_fan/0db/abnormal/ch1/00000001_ch1.wav',\n",
       " '/work-hmcomm/Experiment_DataSet/wav_dataset/001_HITACHI_fan/0db/abnormal/ch1/00000002_ch1.wav',\n",
       " '/work-hmcomm/Experiment_DataSet/wav_dataset/001_HITACHI_fan/0db/abnormal/ch1/00000003_ch1.wav',\n",
       " '/work-hmcomm/Experiment_DataSet/wav_dataset/001_HITACHI_fan/0db/abnormal/ch1/00000004_ch1.wav']"
      ]
     },
     "metadata": {},
     "output_type": "display_data"
    }
   ],
   "source": [
    "# 確認\n",
    "norm_list_head = norm_data_set_list[:5]\n",
    "anom_list_head = anom_data_set_list[:5]\n",
    "norm_list_len = len(norm_data_set_list)\n",
    "anom_list_len = len(anom_data_set_list)\n",
    "\n",
    "print(f'norm wav file の数 : {norm_list_len}')\n",
    "display(norm_list_head)\n",
    "print(f'anom wav file の数 : {anom_list_len}')\n",
    "display(anom_list_head)"
   ]
  },
  {
   "cell_type": "markdown",
   "metadata": {},
   "source": [
    "## 特徴量のロード"
   ]
  },
  {
   "cell_type": "markdown",
   "metadata": {},
   "source": [
    "## FAST-D Standardをload"
   ]
  },
  {
   "cell_type": "code",
   "execution_count": 6,
   "metadata": {},
   "outputs": [],
   "source": [
    "def feature_dataset_loader(data_set,anr, feature_type):\n",
    "    \"\"\"\n",
    "    feature load の関数です。\n",
    "    \n",
    "    Parameters\n",
    "    ---------\n",
    "    data_set(type:str)\n",
    "    \n",
    "    anr(type:str)\n",
    "    \n",
    "    feature_type(type:str)\n",
    "    \n",
    "    \n",
    "    Returns\n",
    "    -------\n",
    "    norm_train\n",
    "    anom_train\n",
    "    norm_test\n",
    "    anom_test\n",
    "    \n",
    "    \n",
    "    Notes\n",
    "    -----\n",
    "    [example]\n",
    "    データセット：001_HITACHI_fan, ANR : 0db, feature type : FAST-D 標準特徴量 を使用したいとき\n",
    "    \n",
    "    \n",
    "    data_set = '001_HITACHI_fan'\n",
    "    anr = '0db'\n",
    "    feature_type = 'FASTD_standard'\n",
    "    norm_train_0db, anom_train_0db, norm_test_0db, anom_test_0db = feature_loder(data_set, anr, feature_type) \n",
    "    \n",
    "    \"\"\"\n",
    "    dir_path = '/work-hmcomm/Experiment_DataSet/feature_dataset'\n",
    "    feature_path = dir_path +'/'+ data_set +'/'+ anr +'/'+ feature_type +'/csv/*.csv'\n",
    "    feature_csv_list = sorted(glob.glob(feature_path))\n",
    "    anom_test, anom_train, norm_test, norm_train = [pd.read_csv(i, index_col=0) for i in feature_csv_list]\n",
    "    return norm_train, anom_train, norm_test, anom_test"
   ]
  },
  {
   "cell_type": "code",
   "execution_count": 7,
   "metadata": {},
   "outputs": [],
   "source": [
    "norm_train_0db_fastdstd, anom_train_0db_fastdstd, norm_test_0db_fastdstd, anom_test_0db_fastdstd = feature_dataset_loader(data_set=dataset, anr=anr, feature_type=feature_type)"
   ]
  },
  {
   "cell_type": "markdown",
   "metadata": {},
   "source": [
    "## mel-spectrogramの抽出"
   ]
  },
  {
   "cell_type": "markdown",
   "metadata": {},
   "source": [
    "FAST-Dの標準特徴量のtrainとtestを揃える"
   ]
  },
  {
   "cell_type": "code",
   "execution_count": 8,
   "metadata": {},
   "outputs": [],
   "source": [
    "# wav_nameのリストを作成する\n",
    "norm_train_0db_list = list(norm_train_0db_fastdstd['wav_name'].unique())\n",
    "anom_train_0db_list = list(anom_train_0db_fastdstd['wav_name'].unique())\n",
    "norm_test_0db_list  = list(norm_test_0db_fastdstd['wav_name'].unique())\n",
    "anom_test_0db_list  = list(anom_test_0db_fastdstd['wav_name'].unique())"
   ]
  },
  {
   "cell_type": "code",
   "execution_count": 9,
   "metadata": {},
   "outputs": [],
   "source": [
    "def wav2mfcc(wav_list,n_fft, hop_length, n_mfcc):\n",
    "    \"\"\"\n",
    "    wav から　mfccを作成するlibrosaを使って関数\n",
    "    \"\"\"\n",
    "    features_label = ['mfcc'+str(i+1) for i in range(n_mfcc)]\n",
    "    mfcc_wav_name_df_list = []\n",
    "    mfcc_df_list = []\n",
    "    \n",
    "    for wav in tqdm(wav_list):\n",
    "        sr, data = read(wav)\n",
    "        data = np.array(data, dtype='float32')\n",
    "        S = power_to_db(melspectrogram(y=data, sr=sr, n_fft=n_fft, hop_length=hop_length))\n",
    "        mfccs = librosa.feature.mfcc(S=S, n_mfcc=n_mfcc)\n",
    "\n",
    "        feat_num = len(mfccs.T)\n",
    "\n",
    "        wav_name_list = [wav] * feat_num\n",
    "        \n",
    "        mfcc_wav_name_df_list.append(pd.DataFrame(wav_name_list, columns=['wav_name']))\n",
    "        mfcc_df_list.append(pd.DataFrame(mfccs.T, columns=features_label))\n",
    "\n",
    "    \n",
    "    mfcc_df = [pd.concat([mfcc_df_list[i], mfcc_wav_name_df_list[i]], axis=1) for i in range(len(mfcc_df_list))]\n",
    "    \n",
    "    \n",
    "    return mfcc_df"
   ]
  },
  {
   "cell_type": "code",
   "execution_count": 10,
   "metadata": {},
   "outputs": [
    {
     "name": "stderr",
     "output_type": "stream",
     "text": [
      "100%|██████████| 809/809 [00:16<00:00, 48.81it/s]\n",
      "100%|██████████| 325/325 [00:05<00:00, 57.12it/s]\n",
      "100%|██████████| 202/202 [00:04<00:00, 44.97it/s]\n",
      "100%|██████████| 82/82 [00:01<00:00, 41.37it/s]\n"
     ]
    }
   ],
   "source": [
    "n_fft = 1024\n",
    "hop_length = 512\n",
    "n_mfcc = 64\n",
    "\n",
    "norm_train_0db_mfcc64_df = wav2mfcc(wav_list=norm_train_0db_list, n_fft=n_fft, hop_length=hop_length, n_mfcc=n_mfcc)\n",
    "anom_train_0db_mfcc64_df = wav2mfcc(wav_list=anom_train_0db_list, n_fft=n_fft, hop_length=hop_length, n_mfcc=n_mfcc)\n",
    "norm_test_0db_mfcc64_df = wav2mfcc(wav_list=norm_test_0db_list, n_fft=n_fft, hop_length=hop_length, n_mfcc=n_mfcc)\n",
    "anom_test_0db_mfcc64_df = wav2mfcc(wav_list=anom_test_0db_list, n_fft=n_fft, hop_length=hop_length, n_mfcc=n_mfcc)"
   ]
  },
  {
   "cell_type": "code",
   "execution_count": 11,
   "metadata": {},
   "outputs": [
    {
     "name": "stdout",
     "output_type": "stream",
     "text": [
      "norm_train_0db_wav : 809\n",
      "anom_train_0db_wav : 325\n",
      "norm_test_0db_wav  : 202\n",
      "anom_test_0db_wav  : 82\n"
     ]
    }
   ],
   "source": [
    "# dataの数の確認(\n",
    "print(f'norm_train_0db_wav : {len(norm_train_0db_mfcc64_df)}')\n",
    "print(f'anom_train_0db_wav : {len(anom_train_0db_mfcc64_df)}')\n",
    "print(f'norm_test_0db_wav  : {len(norm_test_0db_mfcc64_df)}')\n",
    "print(f'anom_test_0db_wav  : {len(anom_test_0db_mfcc64_df)}')"
   ]
  },
  {
   "cell_type": "markdown",
   "metadata": {},
   "source": [
    "## dataのconcat\n",
    "wav毎に抽出したDataFrameを一つのDataFrameにします。"
   ]
  },
  {
   "cell_type": "code",
   "execution_count": 12,
   "metadata": {},
   "outputs": [],
   "source": [
    "# dataのconcat\n",
    "norm_train_0db_mfcc64 = pd.concat([i for i in norm_train_0db_mfcc64_df])\n",
    "anom_train_0db_mfcc64 = pd.concat([i for i in anom_train_0db_mfcc64_df])\n",
    "norm_test_0db_mfcc64 = pd.concat([i for i in norm_test_0db_mfcc64_df])\n",
    "anom_test_0db_mfcc64 = pd.concat([i for i in anom_test_0db_mfcc64_df])"
   ]
  },
  {
   "cell_type": "markdown",
   "metadata": {},
   "source": [
    "## datasetの準備"
   ]
  },
  {
   "cell_type": "code",
   "execution_count": 13,
   "metadata": {},
   "outputs": [],
   "source": [
    "# fast-d standard から不要な列を落とす\n",
    "drop_list_fastd = ['wav_name', 'target']\n",
    "norm_train_0db_fastdstd_drop = norm_train_0db_fastdstd.drop(drop_list_fastd, axis=1)\n",
    "norm_test_0db_fastdstd_drop = norm_test_0db_fastdstd.drop(drop_list_fastd, axis=1)\n",
    "anom_test_0db_fastdstd_drop = anom_test_0db_fastdstd.drop(drop_list_fastd, axis=1)"
   ]
  },
  {
   "cell_type": "code",
   "execution_count": 14,
   "metadata": {},
   "outputs": [
    {
     "name": "stdout",
     "output_type": "stream",
     "text": [
      "fast-d standartd train norm size : (31551, 34)\n",
      "fast-d standartd test norm size : (7878, 34)\n",
      "fast-d standartd test anom size : (3198, 34)\n"
     ]
    }
   ],
   "source": [
    "# FAST-D 標準特徴量 のsizeの確認\n",
    "print(f'fast-d standartd train norm size : {norm_train_0db_fastdstd_drop.shape}')\n",
    "print(f'fast-d standartd test norm size : {norm_test_0db_fastdstd_drop.shape}')\n",
    "print(f'fast-d standartd test anom size : {anom_test_0db_fastdstd_drop.shape}')"
   ]
  },
  {
   "cell_type": "code",
   "execution_count": 15,
   "metadata": {},
   "outputs": [],
   "source": [
    "# mfcc64 から不要な列を落とす\n",
    "drop_list_mfcc64 = ['wav_name']\n",
    "norm_train_0db_mfcc64_drop = norm_train_0db_mfcc64.drop(drop_list_mfcc64, axis=1)\n",
    "norm_test_0db_mfcc64_drop  = norm_test_0db_mfcc64.drop(drop_list_mfcc64, axis=1)\n",
    "anom_test_0db_mfcc64_drop  = anom_test_0db_mfcc64.drop(drop_list_mfcc64, axis=1)"
   ]
  },
  {
   "cell_type": "code",
   "execution_count": 16,
   "metadata": {},
   "outputs": [
    {
     "name": "stdout",
     "output_type": "stream",
     "text": [
      "mfcc64 train norm size : (253217, 64)\n",
      "mfcc64 test norm size : (63226, 64)\n",
      "mfcc64 test anom size : (25666, 64)\n"
     ]
    }
   ],
   "source": [
    "# mfcc64 特徴量 のsizeの確認\n",
    "print(f'mfcc64 train norm size : {norm_train_0db_mfcc64_drop.shape}')\n",
    "print(f'mfcc64 test norm size : {norm_test_0db_mfcc64_drop.shape}')\n",
    "print(f'mfcc64 test anom size : {anom_test_0db_mfcc64_drop.shape}')"
   ]
  },
  {
   "cell_type": "markdown",
   "metadata": {},
   "source": [
    "# Learning"
   ]
  },
  {
   "cell_type": "markdown",
   "metadata": {},
   "source": [
    "今回はsklearnのGMMをしようする。 "
   ]
  },
  {
   "cell_type": "code",
   "execution_count": 21,
   "metadata": {},
   "outputs": [],
   "source": [
    "n_components = 10\n",
    "covariance_type = 'full'\n",
    "random_state = 100\n",
    "gmm_fastdstd = GaussianMixture(n_components=n_components, covariance_type=covariance_type, random_state=random_state)\n",
    "gmm_mfcc64 = GaussianMixture(n_components=n_components, covariance_type=covariance_type, random_state=random_state)"
   ]
  },
  {
   "cell_type": "code",
   "execution_count": 73,
   "metadata": {},
   "outputs": [],
   "source": [
    "class GMMAnomalyDetector:\n",
    "    def __init__(self, max_n_component, covariance_type='full'):\n",
    "        self._max_n_component = max_n_component\n",
    "        self._covariance_type = covariance_type\n",
    "        self._best_gmm = None\n",
    "        self.best_n_component = -1\n",
    "\n",
    "    def fit(self, X):\n",
    "        # BIC基準でベストなクラスタ数を2～max_n_componentの範囲で探す\n",
    "        lowest_bic = np.inf\n",
    "        for n_component in range(2, self._max_n_component + 1):\n",
    "            gmm = GaussianMixture(n_components=n_component, covariance_type=self._covariance_type)\n",
    "            gmm.fit(X)\n",
    "            bic = gmm.bic(X)\n",
    "            if bic < lowest_bic:\n",
    "                lowest_bic = bic\n",
    "                self._best_gmm = gmm\n",
    "                self.best_n_component = n_component\n",
    "\n",
    "    def predict(self, X, contamination=0.1):\n",
    "        # スコア下位N%を異常と見なす\n",
    "        scores = np.exp(self._best_gmm.score_samples(X))\n",
    "        ordered_scores = np.argsort(scores)\n",
    "        anomaly_indices = ordered_scores[:int(len(scores)*contamination + 0.5)]\n",
    "        # 正常を0、異常を1として返す\n",
    "        prediction = np.zeros((len(scores)), dtype=np.int)\n",
    "        prediction[anomaly_indices] = 1\n",
    "        return scores, prediction"
   ]
  },
  {
   "cell_type": "code",
   "execution_count": 74,
   "metadata": {},
   "outputs": [],
   "source": [
    "gmm_fasdstd = GMMAnomalyDetector(max_n_component=50)\n",
    "gmm_mfcc64 = GMMAnomalyDetector(max_n_component=50)"
   ]
  },
  {
   "cell_type": "code",
   "execution_count": 75,
   "metadata": {},
   "outputs": [
    {
     "name": "stdout",
     "output_type": "stream",
     "text": [
      "CPU times: user 3h 54min 24s, sys: 10h 3min 44s, total: 13h 58min 8s\n",
      "Wall time: 22min 5s\n"
     ]
    }
   ],
   "source": [
    "%%time\n",
    "gmm_fasdstd.fit(norm_train_0db_fastdstd_drop)"
   ]
  },
  {
   "cell_type": "code",
   "execution_count": null,
   "metadata": {},
   "outputs": [],
   "source": [
    "%%time\n",
    "gmm_mfcc64.fit(norm_train_0db_mfcc64_drop)"
   ]
  },
  {
   "cell_type": "code",
   "execution_count": null,
   "metadata": {},
   "outputs": [],
   "source": []
  },
  {
   "cell_type": "code",
   "execution_count": null,
   "metadata": {},
   "outputs": [],
   "source": []
  },
  {
   "cell_type": "code",
   "execution_count": null,
   "metadata": {},
   "outputs": [],
   "source": []
  },
  {
   "cell_type": "code",
   "execution_count": null,
   "metadata": {},
   "outputs": [],
   "source": []
  },
  {
   "cell_type": "code",
   "execution_count": null,
   "metadata": {},
   "outputs": [],
   "source": []
  },
  {
   "cell_type": "code",
   "execution_count": null,
   "metadata": {},
   "outputs": [],
   "source": []
  },
  {
   "cell_type": "code",
   "execution_count": null,
   "metadata": {},
   "outputs": [],
   "source": []
  },
  {
   "cell_type": "code",
   "execution_count": null,
   "metadata": {},
   "outputs": [],
   "source": []
  },
  {
   "cell_type": "code",
   "execution_count": 22,
   "metadata": {},
   "outputs": [
    {
     "data": {
      "text/plain": [
       "GaussianMixture(covariance_type='full', init_params='kmeans', max_iter=100,\n",
       "        means_init=None, n_components=10, n_init=1, precisions_init=None,\n",
       "        random_state=100, reg_covar=1e-06, tol=0.001, verbose=0,\n",
       "        verbose_interval=10, warm_start=False, weights_init=None)"
      ]
     },
     "execution_count": 22,
     "metadata": {},
     "output_type": "execute_result"
    }
   ],
   "source": [
    "gmm_fastdstd.fit(norm_train_0db_fastdstd_drop)"
   ]
  },
  {
   "cell_type": "code",
   "execution_count": 23,
   "metadata": {},
   "outputs": [
    {
     "data": {
      "text/plain": [
       "GaussianMixture(covariance_type='full', init_params='kmeans', max_iter=100,\n",
       "        means_init=None, n_components=10, n_init=1, precisions_init=None,\n",
       "        random_state=100, reg_covar=1e-06, tol=0.001, verbose=0,\n",
       "        verbose_interval=10, warm_start=False, weights_init=None)"
      ]
     },
     "execution_count": 23,
     "metadata": {},
     "output_type": "execute_result"
    }
   ],
   "source": [
    "gmm_mfcc64.fit(norm_train_0db_mfcc64_drop)"
   ]
  },
  {
   "cell_type": "code",
   "execution_count": 62,
   "metadata": {},
   "outputs": [],
   "source": [
    "scores_fastdstd = gmm_fastdstd.score_samples(norm_train_0db_fastdstd_drop)\n",
    "scores_mfcc64 = gmm_mfcc64.score_samples(norm_train_0db_mfcc64_drop)"
   ]
  },
  {
   "cell_type": "code",
   "execution_count": 65,
   "metadata": {},
   "outputs": [
    {
     "data": {
      "text/plain": [
       "[<matplotlib.lines.Line2D at 0x7fea285997b8>]"
      ]
     },
     "execution_count": 65,
     "metadata": {},
     "output_type": "execute_result"
    },
    {
     "data": {
      "image/png": "[encoded data removed]",
      "text/plain": [
       "<Figure size 432x288 with 1 Axes>"
      ]
     },
     "metadata": {
      "needs_background": "light"
     },
     "output_type": "display_data"
    }
   ],
   "source": [
    "# 正常音のスコアをプロット\n",
    "plt.plot(np.exp(-scores_fastdstd))"
   ]
  },
  {
   "cell_type": "code",
   "execution_count": 64,
   "metadata": {},
   "outputs": [
    {
     "data": {
      "text/plain": [
       "[<matplotlib.lines.Line2D at 0x7fea285b8f28>]"
      ]
     },
     "execution_count": 64,
     "metadata": {},
     "output_type": "execute_result"
    },
    {
     "data": {
      "image/png": "[encoded data removed]",
      "text/plain": [
       "<Figure size 432x288 with 1 Axes>"
      ]
     },
     "metadata": {
      "needs_background": "light"
     },
     "output_type": "display_data"
    }
   ],
   "source": [
    "# 正常音のスコアをプロット\n",
    "plt.plot(-scores_mfcc64)"
   ]
  },
  {
   "cell_type": "code",
   "execution_count": null,
   "metadata": {},
   "outputs": [],
   "source": []
  },
  {
   "cell_type": "code",
   "execution_count": 56,
   "metadata": {},
   "outputs": [],
   "source": [
    "scores_anom_fastdstd =(-gmm_fastdstd.score_samples(anom_test_0db_fastdstd_drop))\n",
    "scores_norm_fastdstd =(-gmm_fastdstd.score_samples(norm_test_0db_fastdstd_drop))\n",
    "\n",
    "scores_anom_mfcc64   =(-gmm_mfcc64.score_samples(anom_test_0db_mfcc64_drop))\n",
    "scores_norm_mfcc64   =(-gmm_mfcc64.score_samples(norm_test_0db_mfcc64_drop))"
   ]
  },
  {
   "cell_type": "code",
   "execution_count": 57,
   "metadata": {},
   "outputs": [
    {
     "data": {
      "text/plain": [
       "[<matplotlib.lines.Line2D at 0x7fea28807a58>]"
      ]
     },
     "execution_count": 57,
     "metadata": {},
     "output_type": "execute_result"
    },
    {
     "data": {
      "image/png": "[encoded data removed]",
      "text/plain": [
       "<Figure size 936x360 with 2 Axes>"
      ]
     },
     "metadata": {
      "needs_background": "light"
     },
     "output_type": "display_data"
    }
   ],
   "source": [
    "# fastdstdのスコアをプロット\n",
    "plt.figure(figsize=(13,5))\n",
    "plt.subplot(1,2,1)\n",
    "plt.plot(scores_norm_fastdstd)\n",
    "plt.subplot(1,2,2)\n",
    "plt.plot(scores_anom_fastdstd)\n"
   ]
  },
  {
   "cell_type": "code",
   "execution_count": 58,
   "metadata": {},
   "outputs": [
    {
     "data": {
      "text/plain": [
       "[<matplotlib.lines.Line2D at 0x7fea28743080>]"
      ]
     },
     "execution_count": 58,
     "metadata": {},
     "output_type": "execute_result"
    },
    {
     "data": {
      "image/png": "[encoded data removed]",
      "text/plain": [
       "<Figure size 936x360 with 2 Axes>"
      ]
     },
     "metadata": {
      "needs_background": "light"
     },
     "output_type": "display_data"
    }
   ],
   "source": [
    "# mfcc64のスコアをプロット\n",
    "plt.figure(figsize=(13,5))\n",
    "plt.subplot(1,2,1)\n",
    "plt.plot(scores_norm_mfcc64)\n",
    "plt.subplot(1,2,2)\n",
    "plt.plot(scores_anom_mfcc64)\n"
   ]
  },
  {
   "cell_type": "code",
   "execution_count": null,
   "metadata": {},
   "outputs": [],
   "source": []
  },
  {
   "cell_type": "code",
   "execution_count": null,
   "metadata": {},
   "outputs": [],
   "source": []
  },
  {
   "cell_type": "code",
   "execution_count": null,
   "metadata": {},
   "outputs": [],
   "source": []
  },
  {
   "cell_type": "code",
   "execution_count": null,
   "metadata": {},
   "outputs": [],
   "source": []
  },
  {
   "cell_type": "code",
   "execution_count": 17,
   "metadata": {},
   "outputs": [],
   "source": [
    "class autoencoder(nn.Module):\n",
    "    def __init__(self, feature_dim, hidden_dim, latent_dim):\n",
    "        super(autoencoder, self).__init__()\n",
    "        self.encoder = nn.Sequential(\n",
    "            nn.Linear(feature_dim, hidden_dim),\n",
    "            nn.ReLU(True),\n",
    "            nn.Linear(hidden_dim, hidden_dim),\n",
    "            nn.ReLU(True),\n",
    "            nn.Linear(hidden_dim, latent_dim),\n",
    "            nn.ReLU(True))\n",
    "        self.decoder = nn.Sequential(\n",
    "            nn.Linear(latent_dim, hidden_dim),\n",
    "            nn.ReLU(True),\n",
    "            nn.Linear(hidden_dim, hidden_dim),\n",
    "            nn.ReLU(True),\n",
    "            nn.Linear(hidden_dim, feature_dim))\n",
    "\n",
    "    def forward(self, x):\n",
    "        x = self.encoder(x)\n",
    "        x = self.decoder(x)\n",
    "        return x\n"
   ]
  },
  {
   "cell_type": "code",
   "execution_count": 18,
   "metadata": {},
   "outputs": [],
   "source": [
    "device = torch.device(\"cuda\" if torch.cuda.is_available() else \"cpu\")"
   ]
  },
  {
   "cell_type": "code",
   "execution_count": 19,
   "metadata": {},
   "outputs": [],
   "source": [
    "# MyDataSetの作成\n",
    "class MyDataset(Dataset):\n",
    "    def __init__(self, data, transform=None):\n",
    "        self.transform = transform\n",
    "        self.data = np.array(data)\n",
    "        self.data_num = len(data)\n",
    "        \n",
    "        \n",
    "        \n",
    "    def __len__(self):\n",
    "        return self.data_num\n",
    "        \n",
    "    def __getitem__(self, idx):\n",
    "        out_data = self.data[idx]\n",
    "        \n",
    "        if self.transform:\n",
    "            out_data = self.transform(out_data)\n",
    "        return out_data"
   ]
  },
  {
   "cell_type": "markdown",
   "metadata": {},
   "source": [
    "## FastD standard の特徴量を学習"
   ]
  },
  {
   "cell_type": "code",
   "execution_count": 20,
   "metadata": {},
   "outputs": [],
   "source": [
    "# MyDataSetの作成\n",
    "class MyDataset(Dataset):\n",
    "    def __init__(self, data, transform=None):\n",
    "        self.transform = transform\n",
    "        self.data = np.array(data)\n",
    "        self.data_num = len(data)\n",
    "        \n",
    "        \n",
    "        \n",
    "    def __len__(self):\n",
    "        return self.data_num\n",
    "        \n",
    "    def __getitem__(self, idx):\n",
    "        out_data = self.data[idx]\n",
    "        \n",
    "        if self.transform:\n",
    "            out_data = self.transform(out_data)\n",
    "        return out_data"
   ]
  },
  {
   "cell_type": "code",
   "execution_count": 21,
   "metadata": {},
   "outputs": [],
   "source": [
    "# transform = transforms.Compose([transforms.ToTensor()])\n",
    "data_set = norm_train_0db_fastdstd_drop\n",
    "train_dataset = MyDataset(data_set)"
   ]
  },
  {
   "cell_type": "code",
   "execution_count": 22,
   "metadata": {},
   "outputs": [],
   "source": [
    "# データセットをデータローダーに変換\n",
    "train_batch_size = 100\n",
    "train_loader = DataLoader(train_dataset, batch_size=train_batch_size, shuffle=True)"
   ]
  },
  {
   "cell_type": "code",
   "execution_count": 23,
   "metadata": {},
   "outputs": [],
   "source": [
    "# モデルのインスタンス化\n",
    "model_fastdstd = autoencoder(feature_dim=feature_dim_fastdstd, hidden_dim=hidden_dim_fastdstd, latent_dim=latent_dim_fastdstd).to(device)\n",
    "criterion = nn.MSELoss()\n",
    "optimizer = torch.optim.Adam(\n",
    "    model_fastdstd.parameters(), lr=learning_rate, weight_decay=1e-5)\n"
   ]
  },
  {
   "cell_type": "code",
   "execution_count": 24,
   "metadata": {},
   "outputs": [
    {
     "data": {
      "text/plain": [
       "autoencoder(\n",
       "  (encoder): Sequential(\n",
       "    (0): Linear(in_features=34, out_features=6, bias=True)\n",
       "    (1): ReLU(inplace)\n",
       "    (2): Linear(in_features=6, out_features=6, bias=True)\n",
       "    (3): ReLU(inplace)\n",
       "    (4): Linear(in_features=6, out_features=3, bias=True)\n",
       "    (5): ReLU(inplace)\n",
       "  )\n",
       "  (decoder): Sequential(\n",
       "    (0): Linear(in_features=3, out_features=6, bias=True)\n",
       "    (1): ReLU(inplace)\n",
       "    (2): Linear(in_features=6, out_features=6, bias=True)\n",
       "    (3): ReLU(inplace)\n",
       "    (4): Linear(in_features=6, out_features=34, bias=True)\n",
       "  )\n",
       ")"
      ]
     },
     "execution_count": 24,
     "metadata": {},
     "output_type": "execute_result"
    }
   ],
   "source": [
    "model_fastdstd"
   ]
  },
  {
   "cell_type": "code",
   "execution_count": 25,
   "metadata": {},
   "outputs": [
    {
     "data": {
      "text/html": [
       "\n",
       "    <div>\n",
       "        <style>\n",
       "            /* Turns off some styling */\n",
       "            progress {\n",
       "                /* gets rid of default border in Firefox and Opera. */\n",
       "                border: none;\n",
       "                /* Needs to be in here for Safari polyfill so background images work as expected. */\n",
       "                background-size: auto;\n",
       "            }\n",
       "            .progress-bar-interrupted, .progress-bar-interrupted::-webkit-progress-bar {\n",
       "                background: #F44336;\n",
       "            }\n",
       "        </style>\n",
       "      <progress value='50' class='' max='50', style='width:300px; height:20px; vertical-align: middle;'></progress>\n",
       "      100.00% [50/50 00:33<00:00]\n",
       "    </div>\n",
       "    "
      ],
      "text/plain": [
       "<IPython.core.display.HTML object>"
      ]
     },
     "metadata": {},
     "output_type": "display_data"
    },
    {
     "name": "stdout",
     "output_type": "stream",
     "text": [
      "epoch [1/50], loss: 13.0016\n",
      "epoch [2/50], loss: 12.5092\n",
      "epoch [3/50], loss: 10.8582\n",
      "epoch [4/50], loss: 6.5630\n",
      "epoch [5/50], loss: 1.7235\n",
      "epoch [6/50], loss: 0.1067\n",
      "epoch [7/50], loss: 0.0173\n",
      "epoch [8/50], loss: 0.0165\n",
      "epoch [9/50], loss: 0.0164\n",
      "epoch [10/50], loss: 0.0164\n",
      "epoch [11/50], loss: 0.0163\n",
      "epoch [12/50], loss: 0.0163\n",
      "epoch [13/50], loss: 0.0162\n",
      "epoch [14/50], loss: 0.0161\n",
      "epoch [15/50], loss: 0.0161\n",
      "epoch [16/50], loss: 0.0160\n",
      "epoch [17/50], loss: 0.0159\n",
      "epoch [18/50], loss: 0.0159\n",
      "epoch [19/50], loss: 0.0158\n",
      "epoch [20/50], loss: 0.0157\n",
      "epoch [21/50], loss: 0.0157\n",
      "epoch [22/50], loss: 0.0156\n",
      "epoch [23/50], loss: 0.0155\n",
      "epoch [24/50], loss: 0.0154\n",
      "epoch [25/50], loss: 0.0154\n",
      "epoch [26/50], loss: 0.0153\n",
      "epoch [27/50], loss: 0.0152\n",
      "epoch [28/50], loss: 0.0152\n",
      "epoch [29/50], loss: 0.0151\n",
      "epoch [30/50], loss: 0.0151\n",
      "epoch [31/50], loss: 0.0150\n",
      "epoch [32/50], loss: 0.0150\n",
      "epoch [33/50], loss: 0.0149\n",
      "epoch [34/50], loss: 0.0149\n",
      "epoch [35/50], loss: 0.0149\n",
      "epoch [36/50], loss: 0.0148\n",
      "epoch [37/50], loss: 0.0148\n",
      "epoch [38/50], loss: 0.0148\n",
      "epoch [39/50], loss: 0.0148\n",
      "epoch [40/50], loss: 0.0147\n",
      "epoch [41/50], loss: 0.0147\n",
      "epoch [42/50], loss: 0.0147\n",
      "epoch [43/50], loss: 0.0147\n",
      "epoch [44/50], loss: 0.0147\n",
      "epoch [45/50], loss: 0.0147\n",
      "epoch [46/50], loss: 0.0147\n",
      "epoch [47/50], loss: 0.0146\n",
      "epoch [48/50], loss: 0.0146\n",
      "epoch [49/50], loss: 0.0146\n",
      "epoch [50/50], loss: 0.0146\n"
     ]
    }
   ],
   "source": [
    "# モデルの学習\n",
    "model_fastdstd.train()\n",
    "loss_list_fastdstd = []\n",
    "\n",
    "for epoch in progress_bar(range(num_epochs)):\n",
    "    losses_fastdstd = []\n",
    "    \n",
    "    for x in train_loader:\n",
    "        x = x.to(device)\n",
    "#         print(x.shape)\n",
    "        model_fastdstd.zero_grad()\n",
    "        xhat = model_fastdstd(x.float())\n",
    "        loss = criterion(xhat.float(), x.float())\n",
    "#         optimizer.zero_grad()\n",
    "        loss.backward()\n",
    "        optimizer.step()\n",
    "        \n",
    "        losses_fastdstd.append(loss.cpu().detach().numpy())\n",
    "    print('epoch [{}/{}], loss: {:.4f}'.format(epoch + 1, num_epochs, np.average(losses_fastdstd))) \n",
    "#     scheduler.step()\n",
    "    loss_list_fastdstd.append(np.average(losses_fastdstd))"
   ]
  },
  {
   "cell_type": "code",
   "execution_count": 26,
   "metadata": {},
   "outputs": [
    {
     "data": {
      "image/png": "[encoded data removed]",
      "text/plain": [
       "<Figure size 432x288 with 1 Axes>"
      ]
     },
     "metadata": {
      "needs_background": "light"
     },
     "output_type": "display_data"
    }
   ],
   "source": [
    "plt.figure()\n",
    "plt.plot(range(epoch), loss_list_fastdstd[1:], 'r-', label = 'train_loss')\n",
    "plt.legend()\n",
    "plt.xlabel('epoch')\n",
    "plt.ylabel('loss')\n",
    "plt.grid()"
   ]
  },
  {
   "cell_type": "markdown",
   "metadata": {},
   "source": [
    "## mfcc64の特徴量で学習"
   ]
  },
  {
   "cell_type": "code",
   "execution_count": 27,
   "metadata": {},
   "outputs": [],
   "source": [
    "# transform = transforms.Compose([transforms.ToTensor()])\n",
    "data_set = norm_train_0db_mfcc64_drop\n",
    "train_dataset = MyDataset(data_set)"
   ]
  },
  {
   "cell_type": "code",
   "execution_count": 28,
   "metadata": {},
   "outputs": [
    {
     "data": {
      "text/plain": [
       "253217"
      ]
     },
     "execution_count": 28,
     "metadata": {},
     "output_type": "execute_result"
    }
   ],
   "source": [
    "len(train_dataset)"
   ]
  },
  {
   "cell_type": "code",
   "execution_count": 29,
   "metadata": {},
   "outputs": [],
   "source": [
    "# データセットをデータローダーに変換\n",
    "train_batch_size = 200\n",
    "train_loader = DataLoader(train_dataset, batch_size=train_batch_size, shuffle=True)"
   ]
  },
  {
   "cell_type": "code",
   "execution_count": 30,
   "metadata": {},
   "outputs": [],
   "source": [
    "# モデルのインスタンス化\n",
    "model_mfcc64 = autoencoder(feature_dim=feature_dim_mfcc64, hidden_dim=hidden_dim_mfcc64, latent_dim=latent_dim_mfcc64).to(device)\n",
    "criterion = nn.MSELoss()\n",
    "optimizer = torch.optim.Adam(\n",
    "    model_mfcc64.parameters(), lr=learning_rate, weight_decay=1e-5)\n"
   ]
  },
  {
   "cell_type": "code",
   "execution_count": 31,
   "metadata": {},
   "outputs": [
    {
     "data": {
      "text/plain": [
       "autoencoder(\n",
       "  (encoder): Sequential(\n",
       "    (0): Linear(in_features=64, out_features=12, bias=True)\n",
       "    (1): ReLU(inplace)\n",
       "    (2): Linear(in_features=12, out_features=12, bias=True)\n",
       "    (3): ReLU(inplace)\n",
       "    (4): Linear(in_features=12, out_features=3, bias=True)\n",
       "    (5): ReLU(inplace)\n",
       "  )\n",
       "  (decoder): Sequential(\n",
       "    (0): Linear(in_features=3, out_features=12, bias=True)\n",
       "    (1): ReLU(inplace)\n",
       "    (2): Linear(in_features=12, out_features=12, bias=True)\n",
       "    (3): ReLU(inplace)\n",
       "    (4): Linear(in_features=12, out_features=64, bias=True)\n",
       "  )\n",
       ")"
      ]
     },
     "execution_count": 31,
     "metadata": {},
     "output_type": "execute_result"
    }
   ],
   "source": [
    "model_mfcc64"
   ]
  },
  {
   "cell_type": "code",
   "execution_count": 42,
   "metadata": {},
   "outputs": [
    {
     "data": {
      "text/html": [
       "\n",
       "    <div>\n",
       "        <style>\n",
       "            /* Turns off some styling */\n",
       "            progress {\n",
       "                /* gets rid of default border in Firefox and Opera. */\n",
       "                border: none;\n",
       "                /* Needs to be in here for Safari polyfill so background images work as expected. */\n",
       "                background-size: auto;\n",
       "            }\n",
       "            .progress-bar-interrupted, .progress-bar-interrupted::-webkit-progress-bar {\n",
       "                background: #F44336;\n",
       "            }\n",
       "        </style>\n",
       "      <progress value='50' class='' max='50', style='width:300px; height:20px; vertical-align: middle;'></progress>\n",
       "      100.00% [50/50 06:21<00:00]\n",
       "    </div>\n",
       "    "
      ],
      "text/plain": [
       "<IPython.core.display.HTML object>"
      ]
     },
     "metadata": {},
     "output_type": "display_data"
    },
    {
     "name": "stdout",
     "output_type": "stream",
     "text": [
      "epoch [1/50], loss: 19.9096\n",
      "epoch [2/50], loss: 19.9094\n",
      "epoch [3/50], loss: 19.9072\n",
      "epoch [4/50], loss: 19.9102\n",
      "epoch [5/50], loss: 19.9086\n",
      "epoch [6/50], loss: 19.9071\n",
      "epoch [7/50], loss: 19.9071\n",
      "epoch [8/50], loss: 19.9060\n",
      "epoch [9/50], loss: 19.9026\n",
      "epoch [10/50], loss: 19.9050\n",
      "epoch [11/50], loss: 19.9048\n",
      "epoch [12/50], loss: 19.9037\n",
      "epoch [13/50], loss: 19.9044\n",
      "epoch [14/50], loss: 19.9068\n",
      "epoch [15/50], loss: 19.9038\n",
      "epoch [16/50], loss: 19.9027\n",
      "epoch [17/50], loss: 19.9042\n",
      "epoch [18/50], loss: 19.9002\n",
      "epoch [19/50], loss: 19.9025\n",
      "epoch [20/50], loss: 19.8997\n",
      "epoch [21/50], loss: 19.9020\n",
      "epoch [22/50], loss: 19.9007\n",
      "epoch [23/50], loss: 19.8991\n",
      "epoch [24/50], loss: 19.9003\n",
      "epoch [25/50], loss: 19.8976\n",
      "epoch [26/50], loss: 19.8953\n",
      "epoch [27/50], loss: 19.8969\n",
      "epoch [28/50], loss: 19.8950\n",
      "epoch [29/50], loss: 19.8951\n",
      "epoch [30/50], loss: 19.8955\n",
      "epoch [31/50], loss: 19.8930\n",
      "epoch [32/50], loss: 19.8932\n",
      "epoch [33/50], loss: 19.8925\n",
      "epoch [34/50], loss: 19.8934\n",
      "epoch [35/50], loss: 19.8890\n",
      "epoch [36/50], loss: 19.8889\n",
      "epoch [37/50], loss: 19.8912\n",
      "epoch [38/50], loss: 19.8926\n",
      "epoch [39/50], loss: 19.8910\n",
      "epoch [40/50], loss: 19.8860\n",
      "epoch [41/50], loss: 19.8898\n",
      "epoch [42/50], loss: 19.8883\n",
      "epoch [43/50], loss: 19.8866\n",
      "epoch [44/50], loss: 19.8831\n",
      "epoch [45/50], loss: 19.8826\n",
      "epoch [46/50], loss: 19.8832\n",
      "epoch [47/50], loss: 19.8812\n",
      "epoch [48/50], loss: 19.8821\n",
      "epoch [49/50], loss: 19.8794\n",
      "epoch [50/50], loss: 19.8805\n"
     ]
    }
   ],
   "source": [
    "# モデルの学習\n",
    "model_mfcc64.train()\n",
    "loss_list_mfcc64 = []\n",
    "\n",
    "for epoch in progress_bar(range(num_epochs)):\n",
    "    losses_mfcc64 = []\n",
    "    \n",
    "    for x in train_loader:\n",
    "        x = x.to(device)\n",
    "#         print(x.shape)\n",
    "        model_mfcc64.zero_grad()\n",
    "        xhat = model_mfcc64(x.float())\n",
    "        loss = criterion(xhat.float(), x.float())\n",
    "#         optimizer.zero_grad()\n",
    "        loss.backward()\n",
    "        optimizer.step()\n",
    "        \n",
    "        losses_mfcc64.append(loss.cpu().detach().numpy())\n",
    "    print('epoch [{}/{}], loss: {:.4f}'.format(epoch + 1, num_epochs, np.average(losses_mfcc64))) \n",
    "#     scheduler.step()\n",
    "    loss_list_mfcc64.append(np.average(losses_mfcc64))"
   ]
  },
  {
   "cell_type": "code",
   "execution_count": 43,
   "metadata": {},
   "outputs": [
    {
     "data": {
      "image/png": "[encoded data removed]",
      "text/plain": [
       "<Figure size 432x288 with 1 Axes>"
      ]
     },
     "metadata": {
      "needs_background": "light"
     },
     "output_type": "display_data"
    }
   ],
   "source": [
    "plt.figure()\n",
    "plt.plot(range(epoch), loss_list_mfcc64[1:], 'r-', label = 'train_loss')\n",
    "plt.legend()\n",
    "plt.xlabel('epoch')\n",
    "plt.ylabel('loss')\n",
    "plt.grid()"
   ]
  },
  {
   "cell_type": "markdown",
   "metadata": {},
   "source": [
    "plt.figure()\n",
    "plt.plot(range(epoch), loss_list_fastdstd[1:], 'r-', label = 'train_loss')\n",
    "plt.legend()\n",
    "plt.xlabel('epoch')\n",
    "plt.ylabel('loss')\n",
    "plt.grid()"
   ]
  },
  {
   "cell_type": "markdown",
   "metadata": {},
   "source": [
    "評価用のデータセット\n",
    "- fastd-std  \n",
    "norm_test_0db_fastdstd_drop  \n",
    "anom_test_0db_fastdstd_drop  \n",
    "\n",
    "- mfcc64  \n",
    "norm_test_0db_mfcc64_drop  \n",
    "anom_test_0db_mfcc64_drop  "
   ]
  },
  {
   "cell_type": "markdown",
   "metadata": {},
   "source": [
    "# Predict"
   ]
  },
  {
   "cell_type": "code",
   "execution_count": 44,
   "metadata": {},
   "outputs": [],
   "source": [
    "# MyDataSetの作成\n",
    "class MyDataset(Dataset):\n",
    "    def __init__(self, data, transform=None):\n",
    "        self.transform = transform\n",
    "        self.data = np.array(data)\n",
    "        self.data_num = len(data)\n",
    "        \n",
    "        \n",
    "        \n",
    "    def __len__(self):\n",
    "        return self.data_num\n",
    "        \n",
    "    def __getitem__(self, idx):\n",
    "        out_data = self.data[idx]\n",
    "        \n",
    "        if self.transform:\n",
    "            out_data = self.transform(out_data)\n",
    "        return out_data"
   ]
  },
  {
   "cell_type": "code",
   "execution_count": 45,
   "metadata": {},
   "outputs": [],
   "source": [
    "# transform = transforms.Compose([transforms.ToTensor()])\n",
    "test_norm_dataset_fastdstd = MyDataset(norm_test_0db_fastdstd_drop)\n",
    "test_anom_dataset_fastdstd = MyDataset(anom_test_0db_fastdstd_drop)\n",
    "\n",
    "test_norm_dataset_mfcc64   = MyDataset(norm_test_0db_mfcc64_drop)\n",
    "test_anom_dataset_mfcc64   = MyDataset(anom_test_0db_mfcc64_drop)"
   ]
  },
  {
   "cell_type": "code",
   "execution_count": 46,
   "metadata": {},
   "outputs": [],
   "source": [
    "# データセットをデータローダーに変換\n",
    "test_batch_size = 1\n",
    "\n",
    "test_norm_loader_fastdstd = DataLoader(test_norm_dataset_fastdstd, batch_size=test_batch_size, shuffle=False)\n",
    "test_anom_loader_fastdstd = DataLoader(test_anom_dataset_fastdstd, batch_size=test_batch_size, shuffle=False)\n",
    "\n",
    "test_norm_loader_mfcc64   = DataLoader(test_norm_dataset_mfcc64  , batch_size=test_batch_size, shuffle=False)\n",
    "test_anom_loader_mfcc64   = DataLoader(test_anom_dataset_mfcc64  , batch_size=test_batch_size, shuffle=False)"
   ]
  },
  {
   "cell_type": "code",
   "execution_count": 47,
   "metadata": {},
   "outputs": [
    {
     "data": {
      "text/plain": [
       "{'_metadata': OrderedDict([('', {'version': 1}),\n",
       "              ('encoder', {'version': 1}),\n",
       "              ('encoder.0', {'version': 1}),\n",
       "              ('encoder.1', {'version': 1}),\n",
       "              ('encoder.2', {'version': 1}),\n",
       "              ('encoder.3', {'version': 1}),\n",
       "              ('encoder.4', {'version': 1}),\n",
       "              ('encoder.5', {'version': 1}),\n",
       "              ('decoder', {'version': 1}),\n",
       "              ('decoder.0', {'version': 1}),\n",
       "              ('decoder.1', {'version': 1}),\n",
       "              ('decoder.2', {'version': 1}),\n",
       "              ('decoder.3', {'version': 1}),\n",
       "              ('decoder.4', {'version': 1})])}"
      ]
     },
     "execution_count": 47,
     "metadata": {},
     "output_type": "execute_result"
    }
   ],
   "source": [
    "vars(model_fastdstd.state_dict())"
   ]
  },
  {
   "cell_type": "markdown",
   "metadata": {},
   "source": [
    "## FASTD standardの特徴量のテスト"
   ]
  },
  {
   "cell_type": "code",
   "execution_count": 48,
   "metadata": {},
   "outputs": [
    {
     "name": "stdout",
     "output_type": "stream",
     "text": [
      "現在17.01%完了"
     ]
    },
    {
     "name": "stderr",
     "output_type": "stream",
     "text": [
      "IOPub message rate exceeded.\n",
      "The notebook server will temporarily stop sending output\n",
      "to the client in order to avoid crashing it.\n",
      "To change this limit, set the config variable\n",
      "`--NotebookApp.iopub_msg_rate_limit`.\n",
      "\n",
      "Current values:\n",
      "NotebookApp.iopub_msg_rate_limit=1000.0 (msgs/sec)\n",
      "NotebookApp.rate_limit_window=3.0 (secs)\n",
      "\n"
     ]
    },
    {
     "name": "stdout",
     "output_type": "stream",
     "text": [
      "現在99.97%完了"
     ]
    }
   ],
   "source": [
    "# fastdstd テスト開始\n",
    "model_fastdstd = model_fastdstd.to(device)\n",
    "model_fastdstd.eval()\n",
    "\n",
    "\n",
    "# 正常データテスト\n",
    "losses_norm_fastdstd = []\n",
    "count=0\n",
    "for x in test_norm_loader_fastdstd:\n",
    "    x = x.to(device)\n",
    "    xhat = model_fastdstd(x.float())\n",
    "    loss_norm = criterion(xhat.float(), x.float())\n",
    "    losses_norm_fastdstd.append(loss_norm.cpu().detach().numpy())\n",
    "    sys.stdout.write(\"\\r%s\" % \"現在\"+str(np.around((count/len(test_norm_loader_fastdstd))*100 , 2))+\"%完了\")\n",
    "    sys.stdout.flush()\n",
    "    count += 1\n",
    "    \n",
    "# 異常データテスト\n",
    "losses_anom_fastdstd = []\n",
    "count=0\n",
    "for x in test_anom_loader_fastdstd:\n",
    "    x = x.to(device)\n",
    "    xhat = model_fastdstd(x.float())\n",
    "    loss_anom = criterion(xhat.float(), x.float())\n",
    "    losses_anom_fastdstd.append(loss_anom.cpu().detach().numpy())\n",
    "    sys.stdout.write(\"\\r%s\" % \"現在\"+str(np.around((count/len(test_anom_loader_fastdstd))*100 , 2))+\"%完了\")\n",
    "    sys.stdout.flush()\n",
    "    count += 1\n",
    "\n"
   ]
  },
  {
   "cell_type": "code",
   "execution_count": 49,
   "metadata": {},
   "outputs": [
    {
     "data": {
      "image/png": "[encoded data removed]",
      "text/plain": [
       "<Figure size 432x288 with 1 Axes>"
      ]
     },
     "metadata": {
      "needs_background": "light"
     },
     "output_type": "display_data"
    }
   ],
   "source": [
    "# ROC曲線の描写\n",
    "\n",
    "y_true  = np.concatenate([np.zeros(len(test_norm_dataset_fastdstd)),np.ones(len(test_anom_dataset_fastdstd))])\n",
    "y_score = np.concatenate([losses_norm_fastdstd, losses_anom_fastdstd])\n",
    "\n",
    "fpr, tpr, thresholds = roc_curve(y_true, y_score)\n",
    "fpr = np.array(fpr, dtype='float16')\n",
    "tpr = np.array(tpr, dtype='float16')\n",
    "auc = metrics.auc(fpr, tpr)\n",
    "plt.plot(fpr, tpr, label='ROC curve (area = %.2f)'%auc)\n",
    "plt.legend()\n",
    "plt.xlabel('FPR: False positive rate')\n",
    "plt.ylabel('TPR: True positive rate')\n",
    "plt.grid()\n",
    "# plt.savefig(\"./{}/{}\".format(out_figs_dir, name_roc))\n",
    "# plt.close()\n"
   ]
  },
  {
   "cell_type": "markdown",
   "metadata": {},
   "source": [
    "## mfcc64の特徴量のテスト"
   ]
  },
  {
   "cell_type": "code",
   "execution_count": 50,
   "metadata": {},
   "outputs": [
    {
     "name": "stdout",
     "output_type": "stream",
     "text": [
      "現在16.34%完了"
     ]
    },
    {
     "name": "stderr",
     "output_type": "stream",
     "text": [
      "IOPub message rate exceeded.\n",
      "The notebook server will temporarily stop sending output\n",
      "to the client in order to avoid crashing it.\n",
      "To change this limit, set the config variable\n",
      "`--NotebookApp.iopub_msg_rate_limit`.\n",
      "\n",
      "Current values:\n",
      "NotebookApp.iopub_msg_rate_limit=1000.0 (msgs/sec)\n",
      "NotebookApp.rate_limit_window=3.0 (secs)\n",
      "\n"
     ]
    },
    {
     "name": "stdout",
     "output_type": "stream",
     "text": [
      "現在22.27%完了"
     ]
    },
    {
     "name": "stderr",
     "output_type": "stream",
     "text": [
      "IOPub message rate exceeded.\n",
      "The notebook server will temporarily stop sending output\n",
      "to the client in order to avoid crashing it.\n",
      "To change this limit, set the config variable\n",
      "`--NotebookApp.iopub_msg_rate_limit`.\n",
      "\n",
      "Current values:\n",
      "NotebookApp.iopub_msg_rate_limit=1000.0 (msgs/sec)\n",
      "NotebookApp.rate_limit_window=3.0 (secs)\n",
      "\n"
     ]
    },
    {
     "name": "stdout",
     "output_type": "stream",
     "text": [
      "現在38.33%完了"
     ]
    },
    {
     "name": "stderr",
     "output_type": "stream",
     "text": [
      "IOPub message rate exceeded.\n",
      "The notebook server will temporarily stop sending output\n",
      "to the client in order to avoid crashing it.\n",
      "To change this limit, set the config variable\n",
      "`--NotebookApp.iopub_msg_rate_limit`.\n",
      "\n",
      "Current values:\n",
      "NotebookApp.iopub_msg_rate_limit=1000.0 (msgs/sec)\n",
      "NotebookApp.rate_limit_window=3.0 (secs)\n",
      "\n"
     ]
    },
    {
     "name": "stdout",
     "output_type": "stream",
     "text": [
      "現在44.5%完了"
     ]
    },
    {
     "name": "stderr",
     "output_type": "stream",
     "text": [
      "IOPub message rate exceeded.\n",
      "The notebook server will temporarily stop sending output\n",
      "to the client in order to avoid crashing it.\n",
      "To change this limit, set the config variable\n",
      "`--NotebookApp.iopub_msg_rate_limit`.\n",
      "\n",
      "Current values:\n",
      "NotebookApp.iopub_msg_rate_limit=1000.0 (msgs/sec)\n",
      "NotebookApp.rate_limit_window=3.0 (secs)\n",
      "\n"
     ]
    },
    {
     "name": "stdout",
     "output_type": "stream",
     "text": [
      "現在29.07%完了"
     ]
    },
    {
     "name": "stderr",
     "output_type": "stream",
     "text": [
      "IOPub message rate exceeded.\n",
      "The notebook server will temporarily stop sending output\n",
      "to the client in order to avoid crashing it.\n",
      "To change this limit, set the config variable\n",
      "`--NotebookApp.iopub_msg_rate_limit`.\n",
      "\n",
      "Current values:\n",
      "NotebookApp.iopub_msg_rate_limit=1000.0 (msgs/sec)\n",
      "NotebookApp.rate_limit_window=3.0 (secs)\n",
      "\n"
     ]
    },
    {
     "name": "stdout",
     "output_type": "stream",
     "text": [
      "現在48.55%完了"
     ]
    },
    {
     "name": "stderr",
     "output_type": "stream",
     "text": [
      "IOPub message rate exceeded.\n",
      "The notebook server will temporarily stop sending output\n",
      "to the client in order to avoid crashing it.\n",
      "To change this limit, set the config variable\n",
      "`--NotebookApp.iopub_msg_rate_limit`.\n",
      "\n",
      "Current values:\n",
      "NotebookApp.iopub_msg_rate_limit=1000.0 (msgs/sec)\n",
      "NotebookApp.rate_limit_window=3.0 (secs)\n",
      "\n"
     ]
    },
    {
     "name": "stdout",
     "output_type": "stream",
     "text": [
      "現在63.06%完了"
     ]
    },
    {
     "name": "stderr",
     "output_type": "stream",
     "text": [
      "IOPub message rate exceeded.\n",
      "The notebook server will temporarily stop sending output\n",
      "to the client in order to avoid crashing it.\n",
      "To change this limit, set the config variable\n",
      "`--NotebookApp.iopub_msg_rate_limit`.\n",
      "\n",
      "Current values:\n",
      "NotebookApp.iopub_msg_rate_limit=1000.0 (msgs/sec)\n",
      "NotebookApp.rate_limit_window=3.0 (secs)\n",
      "\n"
     ]
    },
    {
     "name": "stdout",
     "output_type": "stream",
     "text": [
      "現在78.23%完了"
     ]
    },
    {
     "name": "stderr",
     "output_type": "stream",
     "text": [
      "IOPub message rate exceeded.\n",
      "The notebook server will temporarily stop sending output\n",
      "to the client in order to avoid crashing it.\n",
      "To change this limit, set the config variable\n",
      "`--NotebookApp.iopub_msg_rate_limit`.\n",
      "\n",
      "Current values:\n",
      "NotebookApp.iopub_msg_rate_limit=1000.0 (msgs/sec)\n",
      "NotebookApp.rate_limit_window=3.0 (secs)\n",
      "\n"
     ]
    },
    {
     "name": "stdout",
     "output_type": "stream",
     "text": [
      "現在93.31%完了"
     ]
    },
    {
     "name": "stderr",
     "output_type": "stream",
     "text": [
      "IOPub message rate exceeded.\n",
      "The notebook server will temporarily stop sending output\n",
      "to the client in order to avoid crashing it.\n",
      "To change this limit, set the config variable\n",
      "`--NotebookApp.iopub_msg_rate_limit`.\n",
      "\n",
      "Current values:\n",
      "NotebookApp.iopub_msg_rate_limit=1000.0 (msgs/sec)\n",
      "NotebookApp.rate_limit_window=3.0 (secs)\n",
      "\n"
     ]
    },
    {
     "name": "stdout",
     "output_type": "stream",
     "text": [
      "現在100.0%完了"
     ]
    }
   ],
   "source": [
    "# mfcc64 テスト開始\n",
    "model_mfcc64 = model_mfcc64.to(device)\n",
    "model_mfcc64.eval()\n",
    "\n",
    "\n",
    "# 正常データテスト\n",
    "losses_norm_mfcc64 = []\n",
    "count=0\n",
    "for x in test_norm_loader_mfcc64:\n",
    "    x = x.to(device)\n",
    "    xhat = model_mfcc64(x.float())\n",
    "    loss_norm = criterion(xhat.float(), x.float())\n",
    "    losses_norm_mfcc64.append(loss_norm.cpu().detach().numpy())\n",
    "    sys.stdout.write(\"\\r%s\" % \"現在\"+str(np.around((count/len(test_norm_loader_mfcc64))*100 , 2))+\"%完了\")\n",
    "    sys.stdout.flush()\n",
    "    count += 1\n",
    "    \n",
    "# 異常データテスト\n",
    "losses_anom_mfcc64 = []\n",
    "count=0\n",
    "for x in test_anom_loader_mfcc64:\n",
    "    x = x.to(device)\n",
    "    xhat = model_mfcc64(x.float())\n",
    "    loss_anom = criterion(xhat.float(), x.float())\n",
    "    losses_anom_mfcc64.append(loss_anom.cpu().detach().numpy())\n",
    "    sys.stdout.write(\"\\r%s\" % \"現在\"+str(np.around((count/len(test_anom_loader_mfcc64))*100 , 2))+\"%完了\")\n",
    "    sys.stdout.flush()\n",
    "    count += 1\n",
    "\n"
   ]
  },
  {
   "cell_type": "code",
   "execution_count": 51,
   "metadata": {},
   "outputs": [
    {
     "data": {
      "image/png": "[encoded data removed]",
      "text/plain": [
       "<Figure size 432x288 with 1 Axes>"
      ]
     },
     "metadata": {
      "needs_background": "light"
     },
     "output_type": "display_data"
    }
   ],
   "source": [
    "# ROC曲線の描写\n",
    "\n",
    "y_true  = np.concatenate([np.zeros(len(test_norm_dataset_mfcc64)),np.ones(len(test_anom_dataset_mfcc64))])\n",
    "y_score = np.concatenate([losses_norm_mfcc64, losses_anom_mfcc64])\n",
    "\n",
    "fpr, tpr, thresholds = roc_curve(y_true, y_score)\n",
    "fpr = np.array(fpr, dtype='float16')\n",
    "tpr = np.array(tpr, dtype='float16')\n",
    "auc = metrics.auc(fpr, tpr)\n",
    "plt.plot(fpr, tpr, label='ROC curve (area = %.2f)'%auc)\n",
    "plt.legend()\n",
    "plt.xlabel('FPR: False positive rate')\n",
    "plt.ylabel('TPR: True positive rate')\n",
    "plt.grid()\n",
    "# plt.savefig(\"./{}/{}\".format(out_figs_dir, name_roc))\n",
    "# plt.close()\n"
   ]
  },
  {
   "cell_type": "code",
   "execution_count": null,
   "metadata": {},
   "outputs": [],
   "source": []
  }
 ],
 "metadata": {
  "kernelspec": {
   "display_name": "Python 3",
   "language": "python",
   "name": "python3"
  },
  "language_info": {
   "codemirror_mode": {
    "name": "ipython",
    "version": 3
   },
   "file_extension": ".py",
   "mimetype": "text/x-python",
   "name": "python",
   "nbconvert_exporter": "python",
   "pygments_lexer": "ipython3",
   "version": "3.6.8"
  }
 },
 "nbformat": 4,
 "nbformat_minor": 2
}
